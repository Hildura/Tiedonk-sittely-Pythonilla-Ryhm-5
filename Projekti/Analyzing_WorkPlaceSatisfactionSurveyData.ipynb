{
 "cells": [
  {
   "cell_type": "code",
   "execution_count": 139,
   "metadata": {},
   "outputs": [],
   "source": [
    "import numpy as np\n",
    "import pandas as pd\n",
    "import matplotlib.pyplot as plt\n",
    "import seaborn as sns\n",
    "import scipy\n",
    "\n",
    "%matplotlib inline\n",
    "\n",
    "#plt.style.use('seaborn-whitegrid')\n",
    "#plt.style.use(\"seaborn-v0_8-whitegrid\")\n",
    "#plt.style.use(\"seaborn-v0_8\")\n",
    "plt.style.use(\"seaborn-v0_8-whitegrid\")"
   ]
  },
  {
   "cell_type": "code",
   "execution_count": 140,
   "metadata": {},
   "outputs": [],
   "source": [
    "df = pd.read_excel('WorkPlaceSatisfactionSurveyData.xlsx')"
   ]
  },
  {
   "cell_type": "markdown",
   "metadata": {},
   "source": [
    "#### Datasetin alkutarkastus"
   ]
  },
  {
   "cell_type": "code",
   "execution_count": 141,
   "metadata": {},
   "outputs": [
    {
     "name": "stdout",
     "output_type": "stream",
     "text": [
      "<class 'pandas.core.frame.DataFrame'>\n",
      "RangeIndex: 82 entries, 0 to 81\n",
      "Data columns (total 16 columns):\n",
      " #   Column                  Non-Null Count  Dtype  \n",
      "---  ------                  --------------  -----  \n",
      " 0   number                  82 non-null     int64  \n",
      " 1   gender                  82 non-null     int64  \n",
      " 2   age                     82 non-null     int64  \n",
      " 3   family                  82 non-null     int64  \n",
      " 4   education               81 non-null     float64\n",
      " 5   years_of_service        80 non-null     float64\n",
      " 6   salary                  82 non-null     int64  \n",
      " 7   sat_management          82 non-null     int64  \n",
      " 8   sat_colleques           81 non-null     float64\n",
      " 9   sat_workingEnvironment  82 non-null     int64  \n",
      " 10  sat_salary              82 non-null     int64  \n",
      " 11  sat_tasks               82 non-null     int64  \n",
      " 12  healtcare               47 non-null     float64\n",
      " 13  holidayCabin            20 non-null     float64\n",
      " 14  gym                     9 non-null      float64\n",
      " 15  muscleCare              22 non-null     float64\n",
      "dtypes: float64(7), int64(9)\n",
      "memory usage: 10.4 KB\n"
     ]
    }
   ],
   "source": [
    "# datan alkutarkistus\n",
    "df.info()"
   ]
  },
  {
   "cell_type": "code",
   "execution_count": 142,
   "metadata": {},
   "outputs": [
    {
     "data": {
      "text/html": [
       "<div>\n",
       "<style scoped>\n",
       "    .dataframe tbody tr th:only-of-type {\n",
       "        vertical-align: middle;\n",
       "    }\n",
       "\n",
       "    .dataframe tbody tr th {\n",
       "        vertical-align: top;\n",
       "    }\n",
       "\n",
       "    .dataframe thead th {\n",
       "        text-align: right;\n",
       "    }\n",
       "</style>\n",
       "<table border=\"1\" class=\"dataframe\">\n",
       "  <thead>\n",
       "    <tr style=\"text-align: right;\">\n",
       "      <th></th>\n",
       "      <th>number</th>\n",
       "      <th>gender</th>\n",
       "      <th>age</th>\n",
       "      <th>family</th>\n",
       "      <th>education</th>\n",
       "      <th>years_of_service</th>\n",
       "      <th>salary</th>\n",
       "      <th>sat_management</th>\n",
       "      <th>sat_colleques</th>\n",
       "      <th>sat_workingEnvironment</th>\n",
       "      <th>sat_salary</th>\n",
       "      <th>sat_tasks</th>\n",
       "      <th>healtcare</th>\n",
       "      <th>holidayCabin</th>\n",
       "      <th>gym</th>\n",
       "      <th>muscleCare</th>\n",
       "    </tr>\n",
       "  </thead>\n",
       "  <tbody>\n",
       "    <tr>\n",
       "      <th>count</th>\n",
       "      <td>82.000000</td>\n",
       "      <td>82.000000</td>\n",
       "      <td>82.000000</td>\n",
       "      <td>82.000000</td>\n",
       "      <td>81.000000</td>\n",
       "      <td>80.000000</td>\n",
       "      <td>82.000000</td>\n",
       "      <td>82.000000</td>\n",
       "      <td>81.000000</td>\n",
       "      <td>82.000000</td>\n",
       "      <td>82.000000</td>\n",
       "      <td>82.000000</td>\n",
       "      <td>47.0</td>\n",
       "      <td>20.0</td>\n",
       "      <td>9.0</td>\n",
       "      <td>22.0</td>\n",
       "    </tr>\n",
       "    <tr>\n",
       "      <th>mean</th>\n",
       "      <td>41.500000</td>\n",
       "      <td>1.231707</td>\n",
       "      <td>37.951220</td>\n",
       "      <td>1.621951</td>\n",
       "      <td>1.987654</td>\n",
       "      <td>12.175000</td>\n",
       "      <td>2563.878049</td>\n",
       "      <td>3.060976</td>\n",
       "      <td>4.061728</td>\n",
       "      <td>3.219512</td>\n",
       "      <td>2.109756</td>\n",
       "      <td>3.195122</td>\n",
       "      <td>1.0</td>\n",
       "      <td>1.0</td>\n",
       "      <td>1.0</td>\n",
       "      <td>1.0</td>\n",
       "    </tr>\n",
       "    <tr>\n",
       "      <th>std</th>\n",
       "      <td>23.815261</td>\n",
       "      <td>0.424519</td>\n",
       "      <td>9.773866</td>\n",
       "      <td>0.487884</td>\n",
       "      <td>0.844006</td>\n",
       "      <td>8.807038</td>\n",
       "      <td>849.350302</td>\n",
       "      <td>1.058155</td>\n",
       "      <td>0.826826</td>\n",
       "      <td>1.154961</td>\n",
       "      <td>1.111179</td>\n",
       "      <td>1.047502</td>\n",
       "      <td>0.0</td>\n",
       "      <td>0.0</td>\n",
       "      <td>0.0</td>\n",
       "      <td>0.0</td>\n",
       "    </tr>\n",
       "    <tr>\n",
       "      <th>min</th>\n",
       "      <td>1.000000</td>\n",
       "      <td>1.000000</td>\n",
       "      <td>20.000000</td>\n",
       "      <td>1.000000</td>\n",
       "      <td>1.000000</td>\n",
       "      <td>0.000000</td>\n",
       "      <td>1521.000000</td>\n",
       "      <td>1.000000</td>\n",
       "      <td>2.000000</td>\n",
       "      <td>1.000000</td>\n",
       "      <td>1.000000</td>\n",
       "      <td>1.000000</td>\n",
       "      <td>1.0</td>\n",
       "      <td>1.0</td>\n",
       "      <td>1.0</td>\n",
       "      <td>1.0</td>\n",
       "    </tr>\n",
       "    <tr>\n",
       "      <th>25%</th>\n",
       "      <td>21.250000</td>\n",
       "      <td>1.000000</td>\n",
       "      <td>31.000000</td>\n",
       "      <td>1.000000</td>\n",
       "      <td>1.000000</td>\n",
       "      <td>3.750000</td>\n",
       "      <td>2027.000000</td>\n",
       "      <td>2.000000</td>\n",
       "      <td>4.000000</td>\n",
       "      <td>3.000000</td>\n",
       "      <td>1.000000</td>\n",
       "      <td>3.000000</td>\n",
       "      <td>1.0</td>\n",
       "      <td>1.0</td>\n",
       "      <td>1.0</td>\n",
       "      <td>1.0</td>\n",
       "    </tr>\n",
       "    <tr>\n",
       "      <th>50%</th>\n",
       "      <td>41.500000</td>\n",
       "      <td>1.000000</td>\n",
       "      <td>37.500000</td>\n",
       "      <td>2.000000</td>\n",
       "      <td>2.000000</td>\n",
       "      <td>12.500000</td>\n",
       "      <td>2320.000000</td>\n",
       "      <td>3.000000</td>\n",
       "      <td>4.000000</td>\n",
       "      <td>3.000000</td>\n",
       "      <td>2.000000</td>\n",
       "      <td>3.000000</td>\n",
       "      <td>1.0</td>\n",
       "      <td>1.0</td>\n",
       "      <td>1.0</td>\n",
       "      <td>1.0</td>\n",
       "    </tr>\n",
       "    <tr>\n",
       "      <th>75%</th>\n",
       "      <td>61.750000</td>\n",
       "      <td>1.000000</td>\n",
       "      <td>44.000000</td>\n",
       "      <td>2.000000</td>\n",
       "      <td>3.000000</td>\n",
       "      <td>18.250000</td>\n",
       "      <td>2808.000000</td>\n",
       "      <td>4.000000</td>\n",
       "      <td>5.000000</td>\n",
       "      <td>4.000000</td>\n",
       "      <td>3.000000</td>\n",
       "      <td>4.000000</td>\n",
       "      <td>1.0</td>\n",
       "      <td>1.0</td>\n",
       "      <td>1.0</td>\n",
       "      <td>1.0</td>\n",
       "    </tr>\n",
       "    <tr>\n",
       "      <th>max</th>\n",
       "      <td>82.000000</td>\n",
       "      <td>2.000000</td>\n",
       "      <td>61.000000</td>\n",
       "      <td>2.000000</td>\n",
       "      <td>4.000000</td>\n",
       "      <td>36.000000</td>\n",
       "      <td>6278.000000</td>\n",
       "      <td>5.000000</td>\n",
       "      <td>5.000000</td>\n",
       "      <td>5.000000</td>\n",
       "      <td>5.000000</td>\n",
       "      <td>5.000000</td>\n",
       "      <td>1.0</td>\n",
       "      <td>1.0</td>\n",
       "      <td>1.0</td>\n",
       "      <td>1.0</td>\n",
       "    </tr>\n",
       "  </tbody>\n",
       "</table>\n",
       "</div>"
      ],
      "text/plain": [
       "          number     gender        age     family  education  \\\n",
       "count  82.000000  82.000000  82.000000  82.000000  81.000000   \n",
       "mean   41.500000   1.231707  37.951220   1.621951   1.987654   \n",
       "std    23.815261   0.424519   9.773866   0.487884   0.844006   \n",
       "min     1.000000   1.000000  20.000000   1.000000   1.000000   \n",
       "25%    21.250000   1.000000  31.000000   1.000000   1.000000   \n",
       "50%    41.500000   1.000000  37.500000   2.000000   2.000000   \n",
       "75%    61.750000   1.000000  44.000000   2.000000   3.000000   \n",
       "max    82.000000   2.000000  61.000000   2.000000   4.000000   \n",
       "\n",
       "       years_of_service       salary  sat_management  sat_colleques  \\\n",
       "count         80.000000    82.000000       82.000000      81.000000   \n",
       "mean          12.175000  2563.878049        3.060976       4.061728   \n",
       "std            8.807038   849.350302        1.058155       0.826826   \n",
       "min            0.000000  1521.000000        1.000000       2.000000   \n",
       "25%            3.750000  2027.000000        2.000000       4.000000   \n",
       "50%           12.500000  2320.000000        3.000000       4.000000   \n",
       "75%           18.250000  2808.000000        4.000000       5.000000   \n",
       "max           36.000000  6278.000000        5.000000       5.000000   \n",
       "\n",
       "       sat_workingEnvironment  sat_salary  sat_tasks  healtcare  holidayCabin  \\\n",
       "count               82.000000   82.000000  82.000000       47.0          20.0   \n",
       "mean                 3.219512    2.109756   3.195122        1.0           1.0   \n",
       "std                  1.154961    1.111179   1.047502        0.0           0.0   \n",
       "min                  1.000000    1.000000   1.000000        1.0           1.0   \n",
       "25%                  3.000000    1.000000   3.000000        1.0           1.0   \n",
       "50%                  3.000000    2.000000   3.000000        1.0           1.0   \n",
       "75%                  4.000000    3.000000   4.000000        1.0           1.0   \n",
       "max                  5.000000    5.000000   5.000000        1.0           1.0   \n",
       "\n",
       "       gym  muscleCare  \n",
       "count  9.0        22.0  \n",
       "mean   1.0         1.0  \n",
       "std    0.0         0.0  \n",
       "min    1.0         1.0  \n",
       "25%    1.0         1.0  \n",
       "50%    1.0         1.0  \n",
       "75%    1.0         1.0  \n",
       "max    1.0         1.0  "
      ]
     },
     "execution_count": 142,
     "metadata": {},
     "output_type": "execute_result"
    }
   ],
   "source": [
    "df.describe()"
   ]
  },
  {
   "cell_type": "code",
   "execution_count": 143,
   "metadata": {},
   "outputs": [
    {
     "data": {
      "text/html": [
       "<div>\n",
       "<style scoped>\n",
       "    .dataframe tbody tr th:only-of-type {\n",
       "        vertical-align: middle;\n",
       "    }\n",
       "\n",
       "    .dataframe tbody tr th {\n",
       "        vertical-align: top;\n",
       "    }\n",
       "\n",
       "    .dataframe thead th {\n",
       "        text-align: right;\n",
       "    }\n",
       "</style>\n",
       "<table border=\"1\" class=\"dataframe\">\n",
       "  <thead>\n",
       "    <tr style=\"text-align: right;\">\n",
       "      <th></th>\n",
       "      <th>number</th>\n",
       "      <th>gender</th>\n",
       "      <th>age</th>\n",
       "      <th>family</th>\n",
       "      <th>education</th>\n",
       "      <th>years_of_service</th>\n",
       "      <th>salary</th>\n",
       "      <th>sat_management</th>\n",
       "      <th>sat_colleques</th>\n",
       "      <th>sat_workingEnvironment</th>\n",
       "      <th>sat_salary</th>\n",
       "      <th>sat_tasks</th>\n",
       "      <th>healtcare</th>\n",
       "      <th>holidayCabin</th>\n",
       "      <th>gym</th>\n",
       "      <th>muscleCare</th>\n",
       "    </tr>\n",
       "  </thead>\n",
       "  <tbody>\n",
       "    <tr>\n",
       "      <th>0</th>\n",
       "      <td>1</td>\n",
       "      <td>1</td>\n",
       "      <td>38</td>\n",
       "      <td>1</td>\n",
       "      <td>1.0</td>\n",
       "      <td>22.0</td>\n",
       "      <td>3587</td>\n",
       "      <td>3</td>\n",
       "      <td>3.0</td>\n",
       "      <td>3</td>\n",
       "      <td>3</td>\n",
       "      <td>3</td>\n",
       "      <td>NaN</td>\n",
       "      <td>NaN</td>\n",
       "      <td>NaN</td>\n",
       "      <td>NaN</td>\n",
       "    </tr>\n",
       "    <tr>\n",
       "      <th>1</th>\n",
       "      <td>2</td>\n",
       "      <td>1</td>\n",
       "      <td>29</td>\n",
       "      <td>2</td>\n",
       "      <td>2.0</td>\n",
       "      <td>10.0</td>\n",
       "      <td>2963</td>\n",
       "      <td>1</td>\n",
       "      <td>5.0</td>\n",
       "      <td>2</td>\n",
       "      <td>1</td>\n",
       "      <td>3</td>\n",
       "      <td>NaN</td>\n",
       "      <td>NaN</td>\n",
       "      <td>NaN</td>\n",
       "      <td>NaN</td>\n",
       "    </tr>\n",
       "    <tr>\n",
       "      <th>2</th>\n",
       "      <td>3</td>\n",
       "      <td>1</td>\n",
       "      <td>30</td>\n",
       "      <td>1</td>\n",
       "      <td>1.0</td>\n",
       "      <td>7.0</td>\n",
       "      <td>1989</td>\n",
       "      <td>3</td>\n",
       "      <td>4.0</td>\n",
       "      <td>1</td>\n",
       "      <td>1</td>\n",
       "      <td>3</td>\n",
       "      <td>1.0</td>\n",
       "      <td>NaN</td>\n",
       "      <td>NaN</td>\n",
       "      <td>NaN</td>\n",
       "    </tr>\n",
       "    <tr>\n",
       "      <th>3</th>\n",
       "      <td>4</td>\n",
       "      <td>1</td>\n",
       "      <td>36</td>\n",
       "      <td>2</td>\n",
       "      <td>1.0</td>\n",
       "      <td>14.0</td>\n",
       "      <td>2144</td>\n",
       "      <td>3</td>\n",
       "      <td>3.0</td>\n",
       "      <td>3</td>\n",
       "      <td>3</td>\n",
       "      <td>3</td>\n",
       "      <td>1.0</td>\n",
       "      <td>NaN</td>\n",
       "      <td>NaN</td>\n",
       "      <td>NaN</td>\n",
       "    </tr>\n",
       "    <tr>\n",
       "      <th>4</th>\n",
       "      <td>5</td>\n",
       "      <td>1</td>\n",
       "      <td>24</td>\n",
       "      <td>1</td>\n",
       "      <td>2.0</td>\n",
       "      <td>4.0</td>\n",
       "      <td>2183</td>\n",
       "      <td>2</td>\n",
       "      <td>3.0</td>\n",
       "      <td>2</td>\n",
       "      <td>1</td>\n",
       "      <td>2</td>\n",
       "      <td>1.0</td>\n",
       "      <td>NaN</td>\n",
       "      <td>NaN</td>\n",
       "      <td>NaN</td>\n",
       "    </tr>\n",
       "  </tbody>\n",
       "</table>\n",
       "</div>"
      ],
      "text/plain": [
       "   number  gender  age  family  education  years_of_service  salary  \\\n",
       "0       1       1   38       1        1.0              22.0    3587   \n",
       "1       2       1   29       2        2.0              10.0    2963   \n",
       "2       3       1   30       1        1.0               7.0    1989   \n",
       "3       4       1   36       2        1.0              14.0    2144   \n",
       "4       5       1   24       1        2.0               4.0    2183   \n",
       "\n",
       "   sat_management  sat_colleques  sat_workingEnvironment  sat_salary  \\\n",
       "0               3            3.0                       3           3   \n",
       "1               1            5.0                       2           1   \n",
       "2               3            4.0                       1           1   \n",
       "3               3            3.0                       3           3   \n",
       "4               2            3.0                       2           1   \n",
       "\n",
       "   sat_tasks  healtcare  holidayCabin  gym  muscleCare  \n",
       "0          3        NaN           NaN  NaN         NaN  \n",
       "1          3        NaN           NaN  NaN         NaN  \n",
       "2          3        1.0           NaN  NaN         NaN  \n",
       "3          3        1.0           NaN  NaN         NaN  \n",
       "4          2        1.0           NaN  NaN         NaN  "
      ]
     },
     "execution_count": 143,
     "metadata": {},
     "output_type": "execute_result"
    }
   ],
   "source": [
    "df.head()"
   ]
  },
  {
   "cell_type": "code",
   "execution_count": 144,
   "metadata": {},
   "outputs": [
    {
     "data": {
      "text/html": [
       "<div>\n",
       "<style scoped>\n",
       "    .dataframe tbody tr th:only-of-type {\n",
       "        vertical-align: middle;\n",
       "    }\n",
       "\n",
       "    .dataframe tbody tr th {\n",
       "        vertical-align: top;\n",
       "    }\n",
       "\n",
       "    .dataframe thead th {\n",
       "        text-align: right;\n",
       "    }\n",
       "</style>\n",
       "<table border=\"1\" class=\"dataframe\">\n",
       "  <thead>\n",
       "    <tr style=\"text-align: right;\">\n",
       "      <th></th>\n",
       "      <th>number</th>\n",
       "      <th>gender</th>\n",
       "      <th>age</th>\n",
       "      <th>family</th>\n",
       "      <th>education</th>\n",
       "      <th>years_of_service</th>\n",
       "      <th>salary</th>\n",
       "      <th>sat_management</th>\n",
       "      <th>sat_colleques</th>\n",
       "      <th>sat_workingEnvironment</th>\n",
       "      <th>sat_salary</th>\n",
       "      <th>sat_tasks</th>\n",
       "      <th>healtcare</th>\n",
       "      <th>holidayCabin</th>\n",
       "      <th>gym</th>\n",
       "      <th>muscleCare</th>\n",
       "    </tr>\n",
       "  </thead>\n",
       "  <tbody>\n",
       "    <tr>\n",
       "      <th>77</th>\n",
       "      <td>78</td>\n",
       "      <td>1</td>\n",
       "      <td>22</td>\n",
       "      <td>1</td>\n",
       "      <td>3.0</td>\n",
       "      <td>0.0</td>\n",
       "      <td>1598</td>\n",
       "      <td>4</td>\n",
       "      <td>4.0</td>\n",
       "      <td>4</td>\n",
       "      <td>3</td>\n",
       "      <td>4</td>\n",
       "      <td>NaN</td>\n",
       "      <td>1.0</td>\n",
       "      <td>1.0</td>\n",
       "      <td>NaN</td>\n",
       "    </tr>\n",
       "    <tr>\n",
       "      <th>78</th>\n",
       "      <td>79</td>\n",
       "      <td>1</td>\n",
       "      <td>33</td>\n",
       "      <td>1</td>\n",
       "      <td>1.0</td>\n",
       "      <td>2.0</td>\n",
       "      <td>1638</td>\n",
       "      <td>1</td>\n",
       "      <td>3.0</td>\n",
       "      <td>2</td>\n",
       "      <td>1</td>\n",
       "      <td>2</td>\n",
       "      <td>1.0</td>\n",
       "      <td>NaN</td>\n",
       "      <td>NaN</td>\n",
       "      <td>NaN</td>\n",
       "    </tr>\n",
       "    <tr>\n",
       "      <th>79</th>\n",
       "      <td>80</td>\n",
       "      <td>1</td>\n",
       "      <td>27</td>\n",
       "      <td>1</td>\n",
       "      <td>2.0</td>\n",
       "      <td>7.0</td>\n",
       "      <td>2612</td>\n",
       "      <td>3</td>\n",
       "      <td>4.0</td>\n",
       "      <td>3</td>\n",
       "      <td>3</td>\n",
       "      <td>3</td>\n",
       "      <td>1.0</td>\n",
       "      <td>NaN</td>\n",
       "      <td>1.0</td>\n",
       "      <td>NaN</td>\n",
       "    </tr>\n",
       "    <tr>\n",
       "      <th>80</th>\n",
       "      <td>81</td>\n",
       "      <td>1</td>\n",
       "      <td>35</td>\n",
       "      <td>2</td>\n",
       "      <td>2.0</td>\n",
       "      <td>16.0</td>\n",
       "      <td>2808</td>\n",
       "      <td>3</td>\n",
       "      <td>4.0</td>\n",
       "      <td>3</td>\n",
       "      <td>3</td>\n",
       "      <td>3</td>\n",
       "      <td>NaN</td>\n",
       "      <td>NaN</td>\n",
       "      <td>NaN</td>\n",
       "      <td>NaN</td>\n",
       "    </tr>\n",
       "    <tr>\n",
       "      <th>81</th>\n",
       "      <td>82</td>\n",
       "      <td>2</td>\n",
       "      <td>35</td>\n",
       "      <td>2</td>\n",
       "      <td>3.0</td>\n",
       "      <td>15.0</td>\n",
       "      <td>2183</td>\n",
       "      <td>3</td>\n",
       "      <td>4.0</td>\n",
       "      <td>4</td>\n",
       "      <td>3</td>\n",
       "      <td>4</td>\n",
       "      <td>1.0</td>\n",
       "      <td>NaN</td>\n",
       "      <td>NaN</td>\n",
       "      <td>NaN</td>\n",
       "    </tr>\n",
       "  </tbody>\n",
       "</table>\n",
       "</div>"
      ],
      "text/plain": [
       "    number  gender  age  family  education  years_of_service  salary  \\\n",
       "77      78       1   22       1        3.0               0.0    1598   \n",
       "78      79       1   33       1        1.0               2.0    1638   \n",
       "79      80       1   27       1        2.0               7.0    2612   \n",
       "80      81       1   35       2        2.0              16.0    2808   \n",
       "81      82       2   35       2        3.0              15.0    2183   \n",
       "\n",
       "    sat_management  sat_colleques  sat_workingEnvironment  sat_salary  \\\n",
       "77               4            4.0                       4           3   \n",
       "78               1            3.0                       2           1   \n",
       "79               3            4.0                       3           3   \n",
       "80               3            4.0                       3           3   \n",
       "81               3            4.0                       4           3   \n",
       "\n",
       "    sat_tasks  healtcare  holidayCabin  gym  muscleCare  \n",
       "77          4        NaN           1.0  1.0         NaN  \n",
       "78          2        1.0           NaN  NaN         NaN  \n",
       "79          3        1.0           NaN  1.0         NaN  \n",
       "80          3        NaN           NaN  NaN         NaN  \n",
       "81          4        1.0           NaN  NaN         NaN  "
      ]
     },
     "execution_count": 144,
     "metadata": {},
     "output_type": "execute_result"
    }
   ],
   "source": [
    "df.tail()"
   ]
  },
  {
   "cell_type": "code",
   "execution_count": 145,
   "metadata": {},
   "outputs": [
    {
     "data": {
      "text/html": [
       "<div>\n",
       "<style scoped>\n",
       "    .dataframe tbody tr th:only-of-type {\n",
       "        vertical-align: middle;\n",
       "    }\n",
       "\n",
       "    .dataframe tbody tr th {\n",
       "        vertical-align: top;\n",
       "    }\n",
       "\n",
       "    .dataframe thead th {\n",
       "        text-align: right;\n",
       "    }\n",
       "</style>\n",
       "<table border=\"1\" class=\"dataframe\">\n",
       "  <thead>\n",
       "    <tr style=\"text-align: right;\">\n",
       "      <th></th>\n",
       "      <th>gender</th>\n",
       "      <th>age</th>\n",
       "      <th>family</th>\n",
       "      <th>education</th>\n",
       "      <th>years_of_service</th>\n",
       "      <th>salary</th>\n",
       "      <th>sat_management</th>\n",
       "      <th>sat_colleques</th>\n",
       "      <th>sat_workingEnvironment</th>\n",
       "      <th>sat_salary</th>\n",
       "      <th>sat_tasks</th>\n",
       "    </tr>\n",
       "  </thead>\n",
       "  <tbody>\n",
       "    <tr>\n",
       "      <th>0</th>\n",
       "      <td>1</td>\n",
       "      <td>38</td>\n",
       "      <td>1</td>\n",
       "      <td>1.0</td>\n",
       "      <td>22.0</td>\n",
       "      <td>3587</td>\n",
       "      <td>3</td>\n",
       "      <td>3.0</td>\n",
       "      <td>3</td>\n",
       "      <td>3</td>\n",
       "      <td>3</td>\n",
       "    </tr>\n",
       "    <tr>\n",
       "      <th>1</th>\n",
       "      <td>1</td>\n",
       "      <td>29</td>\n",
       "      <td>2</td>\n",
       "      <td>2.0</td>\n",
       "      <td>10.0</td>\n",
       "      <td>2963</td>\n",
       "      <td>1</td>\n",
       "      <td>5.0</td>\n",
       "      <td>2</td>\n",
       "      <td>1</td>\n",
       "      <td>3</td>\n",
       "    </tr>\n",
       "    <tr>\n",
       "      <th>2</th>\n",
       "      <td>1</td>\n",
       "      <td>30</td>\n",
       "      <td>1</td>\n",
       "      <td>1.0</td>\n",
       "      <td>7.0</td>\n",
       "      <td>1989</td>\n",
       "      <td>3</td>\n",
       "      <td>4.0</td>\n",
       "      <td>1</td>\n",
       "      <td>1</td>\n",
       "      <td>3</td>\n",
       "    </tr>\n",
       "    <tr>\n",
       "      <th>3</th>\n",
       "      <td>1</td>\n",
       "      <td>36</td>\n",
       "      <td>2</td>\n",
       "      <td>1.0</td>\n",
       "      <td>14.0</td>\n",
       "      <td>2144</td>\n",
       "      <td>3</td>\n",
       "      <td>3.0</td>\n",
       "      <td>3</td>\n",
       "      <td>3</td>\n",
       "      <td>3</td>\n",
       "    </tr>\n",
       "    <tr>\n",
       "      <th>4</th>\n",
       "      <td>1</td>\n",
       "      <td>24</td>\n",
       "      <td>1</td>\n",
       "      <td>2.0</td>\n",
       "      <td>4.0</td>\n",
       "      <td>2183</td>\n",
       "      <td>2</td>\n",
       "      <td>3.0</td>\n",
       "      <td>2</td>\n",
       "      <td>1</td>\n",
       "      <td>2</td>\n",
       "    </tr>\n",
       "  </tbody>\n",
       "</table>\n",
       "</div>"
      ],
      "text/plain": [
       "   gender  age  family  education  years_of_service  salary  sat_management  \\\n",
       "0       1   38       1        1.0              22.0    3587               3   \n",
       "1       1   29       2        2.0              10.0    2963               1   \n",
       "2       1   30       1        1.0               7.0    1989               3   \n",
       "3       1   36       2        1.0              14.0    2144               3   \n",
       "4       1   24       1        2.0               4.0    2183               2   \n",
       "\n",
       "   sat_colleques  sat_workingEnvironment  sat_salary  sat_tasks  \n",
       "0            3.0                       3           3          3  \n",
       "1            5.0                       2           1          3  \n",
       "2            4.0                       1           1          3  \n",
       "3            3.0                       3           3          3  \n",
       "4            3.0                       2           1          2  "
      ]
     },
     "execution_count": 145,
     "metadata": {},
     "output_type": "execute_result"
    }
   ],
   "source": [
    "\n",
    "# datan siivous, pudotetaan pois eka ja 4 vikaa saraketta\n",
    "df=df.drop(columns= ['number', 'healtcare', 'holidayCabin', 'gym', 'muscleCare'])\n",
    "df.head()"
   ]
  },
  {
   "cell_type": "code",
   "execution_count": 146,
   "metadata": {},
   "outputs": [
    {
     "name": "stdout",
     "output_type": "stream",
     "text": [
      "<class 'pandas.core.frame.DataFrame'>\n",
      "RangeIndex: 82 entries, 0 to 81\n",
      "Data columns (total 11 columns):\n",
      " #   Column                  Non-Null Count  Dtype  \n",
      "---  ------                  --------------  -----  \n",
      " 0   gender                  82 non-null     int64  \n",
      " 1   age                     82 non-null     int64  \n",
      " 2   family                  82 non-null     int64  \n",
      " 3   education               81 non-null     float64\n",
      " 4   years_of_service        80 non-null     float64\n",
      " 5   salary                  82 non-null     int64  \n",
      " 6   sat_management          82 non-null     int64  \n",
      " 7   sat_colleques           81 non-null     float64\n",
      " 8   sat_workingEnvironment  82 non-null     int64  \n",
      " 9   sat_salary              82 non-null     int64  \n",
      " 10  sat_tasks               82 non-null     int64  \n",
      "dtypes: float64(3), int64(8)\n",
      "memory usage: 7.2 KB\n"
     ]
    }
   ],
   "source": [
    "# tarkistetaan datasetti uudestaan\n",
    "df.info()"
   ]
  },
  {
   "cell_type": "code",
   "execution_count": 147,
   "metadata": {},
   "outputs": [
    {
     "data": {
      "text/plain": [
       "gender                    0\n",
       "age                       0\n",
       "family                    0\n",
       "education                 1\n",
       "years_of_service          2\n",
       "salary                    0\n",
       "sat_management            0\n",
       "sat_colleques             1\n",
       "sat_workingEnvironment    0\n",
       "sat_salary                0\n",
       "sat_tasks                 0\n",
       "dtype: int64"
      ]
     },
     "execution_count": 147,
     "metadata": {},
     "output_type": "execute_result"
    }
   ],
   "source": [
    "df.isnull().sum()\n"
   ]
  },
  {
   "cell_type": "code",
   "execution_count": 148,
   "metadata": {},
   "outputs": [
    {
     "data": {
      "text/plain": [
       "gender                    82\n",
       "age                       82\n",
       "family                    82\n",
       "education                 81\n",
       "years_of_service          80\n",
       "salary                    82\n",
       "sat_management            82\n",
       "sat_colleques             81\n",
       "sat_workingEnvironment    82\n",
       "sat_salary                82\n",
       "sat_tasks                 82\n",
       "dtype: int64"
      ]
     },
     "execution_count": 148,
     "metadata": {},
     "output_type": "execute_result"
    }
   ],
   "source": [
    "df.count()"
   ]
  },
  {
   "cell_type": "code",
   "execution_count": 149,
   "metadata": {},
   "outputs": [
    {
     "name": "stdout",
     "output_type": "stream",
     "text": [
      "gender [1 2]\n",
      "age [38 29 30 36 24 31 49 55 40 33 39 35 58 53 42 26 47 44 43 56 21 45 59 37\n",
      " 28 50 32 51 22 34 27 41 25 61 20 52 46]\n",
      "family [1 2]\n",
      "education [ 1.  2.  3.  4. nan]\n",
      "years_of_service [22. 10.  7. 14.  4. 16.  0. 23. 21. 15. 12.  2. 17. 20. 13. 27.  1.  3.\n",
      " nan 24.  5.  9.  6. 35. 28. 18. 36. 19.  8.]\n",
      "salary [3587 2963 1989 2144 2183 1910 2066 2768 2106 2651 2846 2808 3393 2691\n",
      " 5225 2729 2925 2457 4874 3510 4446 1521 2223 1949 2340 6278 1559 2027\n",
      " 2300 2534 1872 2261 2417 3119 2574 1715 5069 2495 3470 1598 1638 2612]\n",
      "sat_management [3 1 2 4 5]\n",
      "sat_colleques [ 3.  5.  4.  2. nan]\n",
      "sat_workingEnvironment [3 2 1 5 4]\n",
      "sat_salary [3 1 2 4 5]\n",
      "sat_tasks [3 2 4 1 5]\n"
     ]
    }
   ],
   "source": [
    "for var in df:\n",
    "    print(var, df[var].unique())"
   ]
  },
  {
   "cell_type": "markdown",
   "metadata": {},
   "source": [
    "#### Perhemuuttuja / Family\n",
    "\n"
   ]
  },
  {
   "cell_type": "code",
   "execution_count": 150,
   "metadata": {},
   "outputs": [
    {
     "data": {
      "text/html": [
       "<div>\n",
       "<style scoped>\n",
       "    .dataframe tbody tr th:only-of-type {\n",
       "        vertical-align: middle;\n",
       "    }\n",
       "\n",
       "    .dataframe tbody tr th {\n",
       "        vertical-align: top;\n",
       "    }\n",
       "\n",
       "    .dataframe thead th {\n",
       "        text-align: right;\n",
       "    }\n",
       "</style>\n",
       "<table border=\"1\" class=\"dataframe\">\n",
       "  <thead>\n",
       "    <tr style=\"text-align: right;\">\n",
       "      <th></th>\n",
       "      <th>gender</th>\n",
       "      <th>age</th>\n",
       "      <th>family</th>\n",
       "      <th>education</th>\n",
       "      <th>years_of_service</th>\n",
       "      <th>salary</th>\n",
       "      <th>sat_management</th>\n",
       "      <th>sat_colleques</th>\n",
       "      <th>sat_workingEnvironment</th>\n",
       "      <th>sat_salary</th>\n",
       "      <th>sat_tasks</th>\n",
       "    </tr>\n",
       "  </thead>\n",
       "  <tbody>\n",
       "    <tr>\n",
       "      <th>1</th>\n",
       "      <td>1</td>\n",
       "      <td>29</td>\n",
       "      <td>2</td>\n",
       "      <td>2.0</td>\n",
       "      <td>10.0</td>\n",
       "      <td>2963</td>\n",
       "      <td>1</td>\n",
       "      <td>5.0</td>\n",
       "      <td>2</td>\n",
       "      <td>1</td>\n",
       "      <td>3</td>\n",
       "    </tr>\n",
       "    <tr>\n",
       "      <th>3</th>\n",
       "      <td>1</td>\n",
       "      <td>36</td>\n",
       "      <td>2</td>\n",
       "      <td>1.0</td>\n",
       "      <td>14.0</td>\n",
       "      <td>2144</td>\n",
       "      <td>3</td>\n",
       "      <td>3.0</td>\n",
       "      <td>3</td>\n",
       "      <td>3</td>\n",
       "      <td>3</td>\n",
       "    </tr>\n",
       "    <tr>\n",
       "      <th>5</th>\n",
       "      <td>2</td>\n",
       "      <td>31</td>\n",
       "      <td>2</td>\n",
       "      <td>2.0</td>\n",
       "      <td>14.0</td>\n",
       "      <td>1910</td>\n",
       "      <td>4</td>\n",
       "      <td>4.0</td>\n",
       "      <td>5</td>\n",
       "      <td>2</td>\n",
       "      <td>4</td>\n",
       "    </tr>\n",
       "  </tbody>\n",
       "</table>\n",
       "</div>"
      ],
      "text/plain": [
       "   gender  age  family  education  years_of_service  salary  sat_management  \\\n",
       "1       1   29       2        2.0              10.0    2963               1   \n",
       "3       1   36       2        1.0              14.0    2144               3   \n",
       "5       2   31       2        2.0              14.0    1910               4   \n",
       "\n",
       "   sat_colleques  sat_workingEnvironment  sat_salary  sat_tasks  \n",
       "1            5.0                       2           1          3  \n",
       "3            3.0                       3           3          3  \n",
       "5            4.0                       5           2          4  "
      ]
     },
     "execution_count": 150,
     "metadata": {},
     "output_type": "execute_result"
    }
   ],
   "source": [
    "# Family / perhemuuttuja - luokkamuuttuja\n",
    "# single = 1\n",
    "# not single = 2\n",
    "# 82 vastausta\n",
    "\n",
    "df.nlargest(n = 3, columns = 'family')\n",
    "# en ymmärrä mitä iloa tästä on, mutta siis top kolme \"ei sinkkua\""
   ]
  },
  {
   "cell_type": "code",
   "execution_count": 151,
   "metadata": {},
   "outputs": [
    {
     "data": {
      "text/html": [
       "<div>\n",
       "<style scoped>\n",
       "    .dataframe tbody tr th:only-of-type {\n",
       "        vertical-align: middle;\n",
       "    }\n",
       "\n",
       "    .dataframe tbody tr th {\n",
       "        vertical-align: top;\n",
       "    }\n",
       "\n",
       "    .dataframe thead th {\n",
       "        text-align: right;\n",
       "    }\n",
       "</style>\n",
       "<table border=\"1\" class=\"dataframe\">\n",
       "  <thead>\n",
       "    <tr style=\"text-align: right;\">\n",
       "      <th></th>\n",
       "      <th>gender</th>\n",
       "      <th>age</th>\n",
       "      <th>family</th>\n",
       "      <th>education</th>\n",
       "      <th>years_of_service</th>\n",
       "      <th>salary</th>\n",
       "      <th>sat_management</th>\n",
       "      <th>sat_colleques</th>\n",
       "      <th>sat_workingEnvironment</th>\n",
       "      <th>sat_salary</th>\n",
       "      <th>sat_tasks</th>\n",
       "    </tr>\n",
       "  </thead>\n",
       "  <tbody>\n",
       "    <tr>\n",
       "      <th>0</th>\n",
       "      <td>1</td>\n",
       "      <td>38</td>\n",
       "      <td>1</td>\n",
       "      <td>1.0</td>\n",
       "      <td>22.0</td>\n",
       "      <td>3587</td>\n",
       "      <td>3</td>\n",
       "      <td>3.0</td>\n",
       "      <td>3</td>\n",
       "      <td>3</td>\n",
       "      <td>3</td>\n",
       "    </tr>\n",
       "    <tr>\n",
       "      <th>2</th>\n",
       "      <td>1</td>\n",
       "      <td>30</td>\n",
       "      <td>1</td>\n",
       "      <td>1.0</td>\n",
       "      <td>7.0</td>\n",
       "      <td>1989</td>\n",
       "      <td>3</td>\n",
       "      <td>4.0</td>\n",
       "      <td>1</td>\n",
       "      <td>1</td>\n",
       "      <td>3</td>\n",
       "    </tr>\n",
       "    <tr>\n",
       "      <th>4</th>\n",
       "      <td>1</td>\n",
       "      <td>24</td>\n",
       "      <td>1</td>\n",
       "      <td>2.0</td>\n",
       "      <td>4.0</td>\n",
       "      <td>2183</td>\n",
       "      <td>2</td>\n",
       "      <td>3.0</td>\n",
       "      <td>2</td>\n",
       "      <td>1</td>\n",
       "      <td>2</td>\n",
       "    </tr>\n",
       "  </tbody>\n",
       "</table>\n",
       "</div>"
      ],
      "text/plain": [
       "   gender  age  family  education  years_of_service  salary  sat_management  \\\n",
       "0       1   38       1        1.0              22.0    3587               3   \n",
       "2       1   30       1        1.0               7.0    1989               3   \n",
       "4       1   24       1        2.0               4.0    2183               2   \n",
       "\n",
       "   sat_colleques  sat_workingEnvironment  sat_salary  sat_tasks  \n",
       "0            3.0                       3           3          3  \n",
       "2            4.0                       1           1          3  \n",
       "4            3.0                       2           1          2  "
      ]
     },
     "execution_count": 151,
     "metadata": {},
     "output_type": "execute_result"
    }
   ],
   "source": [
    "df.nsmallest(n = 3, columns = 'family')\n",
    "# samoin tämä, kolme \"alinta\" sinkkua"
   ]
  },
  {
   "cell_type": "code",
   "execution_count": 152,
   "metadata": {},
   "outputs": [],
   "source": [
    "df_family=pd.crosstab(df['family'], 'Count')"
   ]
  },
  {
   "cell_type": "code",
   "execution_count": 153,
   "metadata": {},
   "outputs": [
    {
     "data": {
      "text/html": [
       "<div>\n",
       "<style scoped>\n",
       "    .dataframe tbody tr th:only-of-type {\n",
       "        vertical-align: middle;\n",
       "    }\n",
       "\n",
       "    .dataframe tbody tr th {\n",
       "        vertical-align: top;\n",
       "    }\n",
       "\n",
       "    .dataframe thead th {\n",
       "        text-align: right;\n",
       "    }\n",
       "</style>\n",
       "<table border=\"1\" class=\"dataframe\">\n",
       "  <thead>\n",
       "    <tr style=\"text-align: right;\">\n",
       "      <th>col_0</th>\n",
       "      <th>Count</th>\n",
       "    </tr>\n",
       "    <tr>\n",
       "      <th>family</th>\n",
       "      <th></th>\n",
       "    </tr>\n",
       "  </thead>\n",
       "  <tbody>\n",
       "    <tr>\n",
       "      <th>1</th>\n",
       "      <td>31</td>\n",
       "    </tr>\n",
       "    <tr>\n",
       "      <th>2</th>\n",
       "      <td>51</td>\n",
       "    </tr>\n",
       "  </tbody>\n",
       "</table>\n",
       "</div>"
      ],
      "text/plain": [
       "col_0   Count\n",
       "family       \n",
       "1          31\n",
       "2          51"
      ]
     },
     "execution_count": 153,
     "metadata": {},
     "output_type": "execute_result"
    }
   ],
   "source": [
    "df_family\n",
    "# sinkkumittarin jakautuminen\n",
    "# single = 1\n",
    "# not single = 2"
   ]
  },
  {
   "cell_type": "code",
   "execution_count": 154,
   "metadata": {},
   "outputs": [
    {
     "data": {
      "text/html": [
       "<div>\n",
       "<style scoped>\n",
       "    .dataframe tbody tr th:only-of-type {\n",
       "        vertical-align: middle;\n",
       "    }\n",
       "\n",
       "    .dataframe tbody tr th {\n",
       "        vertical-align: top;\n",
       "    }\n",
       "\n",
       "    .dataframe thead th {\n",
       "        text-align: right;\n",
       "    }\n",
       "</style>\n",
       "<table border=\"1\" class=\"dataframe\">\n",
       "  <thead>\n",
       "    <tr style=\"text-align: right;\">\n",
       "      <th></th>\n",
       "      <th>Count</th>\n",
       "    </tr>\n",
       "  </thead>\n",
       "  <tbody>\n",
       "    <tr>\n",
       "      <th>perheetön</th>\n",
       "      <td>31</td>\n",
       "    </tr>\n",
       "    <tr>\n",
       "      <th>perheellinen</th>\n",
       "      <td>51</td>\n",
       "    </tr>\n",
       "  </tbody>\n",
       "</table>\n",
       "</div>"
      ],
      "text/plain": [
       "              Count\n",
       "perheetön        31\n",
       "perheellinen     51"
      ]
     },
     "execution_count": 154,
     "metadata": {},
     "output_type": "execute_result"
    }
   ],
   "source": [
    "df_family.index=['perheetön', 'perheellinen']\n",
    "df_family.columns.name=''\n",
    "df_family"
   ]
  },
  {
   "cell_type": "code",
   "execution_count": 155,
   "metadata": {},
   "outputs": [
    {
     "data": {
      "text/plain": [
       "<Axes: >"
      ]
     },
     "execution_count": 155,
     "metadata": {},
     "output_type": "execute_result"
    },
    {
     "data": {
      "image/png": "[encoded data removed]",
      "text/plain": [
       "<Figure size 640x480 with 1 Axes>"
      ]
     },
     "metadata": {},
     "output_type": "display_data"
    }
   ],
   "source": [
    "# TÄTÄ EI ILMEISESTI SAANUT KÄYTTÄÄ MUTTA KOKEILLAAN NYT KUITENKIN\n",
    "df_family.plot.barh()"
   ]
  },
  {
   "cell_type": "markdown",
   "metadata": {},
   "source": [
    "##### Perhetilanne taulukko"
   ]
  },
  {
   "cell_type": "code",
   "execution_count": 156,
   "metadata": {},
   "outputs": [
    {
     "data": {
      "text/plain": [
       "Text(0.5, 0, 'vastaajia, N=82')"
      ]
     },
     "execution_count": 156,
     "metadata": {},
     "output_type": "execute_result"
    },
    {
     "data": {
      "image/png": "[encoded data removed]",
      "text/plain": [
       "<Figure size 640x480 with 1 Axes>"
      ]
     },
     "metadata": {},
     "output_type": "display_data"
    }
   ],
   "source": [
    "# TÄTÄ EI ILMEISESTI SAANUT KÄYTTÄÄ MUTTA KOKEILLAAN NYT KUITENKIN\n",
    "df_family.plot.barh(legend = False)\n",
    "\n",
    "plt.title('Perhetilanne')\n",
    "plt.xlabel('vastaajia, N=82')"
   ]
  },
  {
   "cell_type": "code",
   "execution_count": 157,
   "metadata": {},
   "outputs": [
    {
     "data": {
      "text/html": [
       "<div>\n",
       "<style scoped>\n",
       "    .dataframe tbody tr th:only-of-type {\n",
       "        vertical-align: middle;\n",
       "    }\n",
       "\n",
       "    .dataframe tbody tr th {\n",
       "        vertical-align: top;\n",
       "    }\n",
       "\n",
       "    .dataframe thead th {\n",
       "        text-align: right;\n",
       "    }\n",
       "</style>\n",
       "<table border=\"1\" class=\"dataframe\">\n",
       "  <thead>\n",
       "    <tr style=\"text-align: right;\">\n",
       "      <th></th>\n",
       "      <th>määrä</th>\n",
       "      <th>%</th>\n",
       "    </tr>\n",
       "  </thead>\n",
       "  <tbody>\n",
       "    <tr>\n",
       "      <th>perheetön</th>\n",
       "      <td>31</td>\n",
       "      <td>37.804878</td>\n",
       "    </tr>\n",
       "    <tr>\n",
       "      <th>perheellinen</th>\n",
       "      <td>51</td>\n",
       "      <td>62.195122</td>\n",
       "    </tr>\n",
       "  </tbody>\n",
       "</table>\n",
       "</div>"
      ],
      "text/plain": [
       "              määrä          %\n",
       "perheetön        31  37.804878\n",
       "perheellinen     51  62.195122"
      ]
     },
     "execution_count": 157,
     "metadata": {},
     "output_type": "execute_result"
    }
   ],
   "source": [
    "# perhestatus prosentteina\n",
    "\n",
    "df_family_prosentti = pd.crosstab(df['family'], 'määrä')\n",
    "df_family_prosentti['%'] = df_family_prosentti['määrä'] / df_family_prosentti['määrä'].sum() * 100\n",
    "df_family_prosentti.index = ['perheetön', 'perheellinen']\n",
    "df_family_prosentti.columns.name = ''\n",
    "df_family_prosentti"
   ]
  },
  {
   "cell_type": "code",
   "execution_count": 158,
   "metadata": {},
   "outputs": [
    {
     "data": {
      "image/png": "[encoded data removed]",
      "text/plain": [
       "<Figure size 640x480 with 1 Axes>"
      ]
     },
     "metadata": {},
     "output_type": "display_data"
    }
   ],
   "source": [
    "labels = ['Perheetön', 'Perheellinen']\n",
    "values = df_family_prosentti['%']\n",
    "colors = ['c', 'y']\n",
    "plt.pie(values, labels=labels, autopct='%1.1f%%', startangle=90, wedgeprops=dict(width=0.6), colors=colors)\n",
    "plt.axis('equal')\n",
    "plt.title('Työntekijöiden perhetilanne, N = 82')\n",
    "plt.show()"
   ]
  },
  {
   "cell_type": "markdown",
   "metadata": {},
   "source": [
    "### Perhetilanteen vertailu sat-muuttujiin"
   ]
  },
  {
   "cell_type": "markdown",
   "metadata": {},
   "source": [
    "#### Perhe + johto"
   ]
  },
  {
   "cell_type": "code",
   "execution_count": 159,
   "metadata": {},
   "outputs": [
    {
     "data": {
      "text/html": [
       "<div>\n",
       "<style scoped>\n",
       "    .dataframe tbody tr th:only-of-type {\n",
       "        vertical-align: middle;\n",
       "    }\n",
       "\n",
       "    .dataframe tbody tr th {\n",
       "        vertical-align: top;\n",
       "    }\n",
       "\n",
       "    .dataframe thead th {\n",
       "        text-align: right;\n",
       "    }\n",
       "</style>\n",
       "<table border=\"1\" class=\"dataframe\">\n",
       "  <thead>\n",
       "    <tr style=\"text-align: right;\">\n",
       "      <th>sat_management</th>\n",
       "      <th>1</th>\n",
       "      <th>2</th>\n",
       "      <th>3</th>\n",
       "      <th>4</th>\n",
       "      <th>5</th>\n",
       "    </tr>\n",
       "  </thead>\n",
       "  <tbody>\n",
       "    <tr>\n",
       "      <th>perheetön</th>\n",
       "      <td>4</td>\n",
       "      <td>7</td>\n",
       "      <td>13</td>\n",
       "      <td>6</td>\n",
       "      <td>1</td>\n",
       "    </tr>\n",
       "    <tr>\n",
       "      <th>perheellinen</th>\n",
       "      <td>3</td>\n",
       "      <td>9</td>\n",
       "      <td>17</td>\n",
       "      <td>17</td>\n",
       "      <td>5</td>\n",
       "    </tr>\n",
       "  </tbody>\n",
       "</table>\n",
       "</div>"
      ],
      "text/plain": [
       "sat_management  1  2   3   4  5\n",
       "perheetön       4  7  13   6  1\n",
       "perheellinen    3  9  17  17  5"
      ]
     },
     "execution_count": 159,
     "metadata": {},
     "output_type": "execute_result"
    }
   ],
   "source": [
    "# TYYTYVÄISYYS JOHTOON / sat_management\n",
    "df_perhe_johto = pd.crosstab(df['family'], df['sat_management']) \n",
    "df_perhe_johto.index = ['perheetön', 'perheellinen']\n",
    "df_perhe_johto"
   ]
  },
  {
   "cell_type": "code",
   "execution_count": 160,
   "metadata": {},
   "outputs": [
    {
     "data": {
      "text/plain": [
       "Chi2ContingencyResult(statistic=np.float64(4.227143957162107), pvalue=np.float64(0.3761371786488699), dof=4, expected_freq=array([[ 2.64634146,  6.04878049, 11.34146341,  8.69512195,  2.26829268],\n",
       "       [ 4.35365854,  9.95121951, 18.65853659, 14.30487805,  3.73170732]]))"
      ]
     },
     "execution_count": 160,
     "metadata": {},
     "output_type": "execute_result"
    }
   ],
   "source": [
    "from scipy.stats import chi2_contingency\n",
    "chi2_contingency(df_perhe_johto)\n",
    "\n",
    "# pvalue=np.float64(0.3761371786488699)"
   ]
  },
  {
   "cell_type": "code",
   "execution_count": 161,
   "metadata": {},
   "outputs": [
    {
     "data": {
      "text/html": [
       "<div>\n",
       "<style scoped>\n",
       "    .dataframe tbody tr th:only-of-type {\n",
       "        vertical-align: middle;\n",
       "    }\n",
       "\n",
       "    .dataframe tbody tr th {\n",
       "        vertical-align: top;\n",
       "    }\n",
       "\n",
       "    .dataframe thead th {\n",
       "        text-align: right;\n",
       "    }\n",
       "</style>\n",
       "<table border=\"1\" class=\"dataframe\">\n",
       "  <thead>\n",
       "    <tr style=\"text-align: right;\">\n",
       "      <th>Tyytyväisyys johtoon</th>\n",
       "      <th>perheetön</th>\n",
       "      <th>perheellinen</th>\n",
       "    </tr>\n",
       "  </thead>\n",
       "  <tbody>\n",
       "    <tr>\n",
       "      <th>tyytymätön</th>\n",
       "      <td>4</td>\n",
       "      <td>3</td>\n",
       "    </tr>\n",
       "    <tr>\n",
       "      <th>ei hyvä</th>\n",
       "      <td>7</td>\n",
       "      <td>9</td>\n",
       "    </tr>\n",
       "    <tr>\n",
       "      <th>en osaa sanoa / ok</th>\n",
       "      <td>13</td>\n",
       "      <td>17</td>\n",
       "    </tr>\n",
       "    <tr>\n",
       "      <th>ihan jees</th>\n",
       "      <td>6</td>\n",
       "      <td>17</td>\n",
       "    </tr>\n",
       "    <tr>\n",
       "      <th>tosi hyvä</th>\n",
       "      <td>1</td>\n",
       "      <td>5</td>\n",
       "    </tr>\n",
       "    <tr>\n",
       "      <th>Vastaajien määrä yht.</th>\n",
       "      <td>31</td>\n",
       "      <td>51</td>\n",
       "    </tr>\n",
       "  </tbody>\n",
       "</table>\n",
       "</div>"
      ],
      "text/plain": [
       "Tyytyväisyys johtoon   perheetön  perheellinen\n",
       "tyytymätön                     4             3\n",
       "ei hyvä                        7             9\n",
       "en osaa sanoa / ok            13            17\n",
       "ihan jees                      6            17\n",
       "tosi hyvä                      1             5\n",
       "Vastaajien määrä yht.         31            51"
      ]
     },
     "execution_count": 161,
     "metadata": {},
     "output_type": "execute_result"
    }
   ],
   "source": [
    "\n",
    "# ovatko perheelliset tyytyväisempiä johtoon / johtamiseen kuin ei-perheelliset?\n",
    "\n",
    "\n",
    "# subset\n",
    "\n",
    "df_perhe_johto = pd.crosstab(df['sat_management'], df['family'])\n",
    "df_perhe_johto.index= ['tyytymätön', 'ei hyvä', 'en osaa sanoa / ok', 'ihan jees', 'tosi hyvä' ]\n",
    "df_perhe_johto.columns = ['perheetön', 'perheellinen']\n",
    "df_perhe_johto.columns.name='Tyytyväisyys johtoon'\n",
    "df_perhe_johto.loc['Vastaajien määrä yht.'] = df_perhe_johto.sum()\n",
    "\n",
    "df_perhe_johto\n",
    "\n"
   ]
  },
  {
   "cell_type": "code",
   "execution_count": 162,
   "metadata": {},
   "outputs": [
    {
     "data": {
      "text/html": [
       "<div>\n",
       "<style scoped>\n",
       "    .dataframe tbody tr th:only-of-type {\n",
       "        vertical-align: middle;\n",
       "    }\n",
       "\n",
       "    .dataframe tbody tr th {\n",
       "        vertical-align: top;\n",
       "    }\n",
       "\n",
       "    .dataframe thead th {\n",
       "        text-align: right;\n",
       "    }\n",
       "</style>\n",
       "<table border=\"1\" class=\"dataframe\">\n",
       "  <thead>\n",
       "    <tr style=\"text-align: right;\">\n",
       "      <th>Tyytyväisyys johtoon prosenttijakauma</th>\n",
       "      <th>perheetön</th>\n",
       "      <th>perheellinen</th>\n",
       "    </tr>\n",
       "  </thead>\n",
       "  <tbody>\n",
       "    <tr>\n",
       "      <th>Tyytymätön</th>\n",
       "      <td>12.9</td>\n",
       "      <td>5.9</td>\n",
       "    </tr>\n",
       "    <tr>\n",
       "      <th>Jokseenkin tyytymätön</th>\n",
       "      <td>22.6</td>\n",
       "      <td>17.6</td>\n",
       "    </tr>\n",
       "    <tr>\n",
       "      <th>En osaa sanoa</th>\n",
       "      <td>41.9</td>\n",
       "      <td>33.3</td>\n",
       "    </tr>\n",
       "    <tr>\n",
       "      <th>Jokseenkin tyytyväinen</th>\n",
       "      <td>19.4</td>\n",
       "      <td>33.3</td>\n",
       "    </tr>\n",
       "    <tr>\n",
       "      <th>Tyytyväinen</th>\n",
       "      <td>3.2</td>\n",
       "      <td>9.8</td>\n",
       "    </tr>\n",
       "    <tr>\n",
       "      <th>Yhteensä %</th>\n",
       "      <td>100.0</td>\n",
       "      <td>100.0</td>\n",
       "    </tr>\n",
       "    <tr>\n",
       "      <th>Vastaajien määrä yht. 82 kpl</th>\n",
       "      <td>31 kpl</td>\n",
       "      <td>51 kpl</td>\n",
       "    </tr>\n",
       "  </tbody>\n",
       "</table>\n",
       "</div>"
      ],
      "text/plain": [
       "Tyytyväisyys johtoon prosenttijakauma perheetön perheellinen\n",
       "Tyytymätön                                 12.9          5.9\n",
       "Jokseenkin tyytymätön                      22.6         17.6\n",
       "En osaa sanoa                              41.9         33.3\n",
       "Jokseenkin tyytyväinen                     19.4         33.3\n",
       "Tyytyväinen                                 3.2          9.8\n",
       "Yhteensä %                                100.0        100.0\n",
       "Vastaajien määrä yht. 82 kpl             31 kpl       51 kpl"
      ]
     },
     "execution_count": 162,
     "metadata": {},
     "output_type": "execute_result"
    }
   ],
   "source": [
    "# taulukko prosentteina\n",
    "\n",
    "df_perhe_johto = pd.crosstab(df['sat_management'], df['family'], normalize = 'columns') * 100\n",
    "df_perhe_johto.index= ['Tyytymätön', 'Jokseenkin tyytymätön', 'En osaa sanoa', 'Jokseenkin tyytyväinen', 'Tyytyväinen' ]\n",
    "df_perhe_johto.columns = ['perheetön', 'perheellinen']\n",
    "df_perhe_johto.columns.name='Tyytyväisyys johtoon prosenttijakauma'\n",
    "df_perhe_johto.loc['Yhteensä %'] = df_perhe_johto.sum()\n",
    "df_perhe_johto = df_perhe_johto.round(1)\n",
    "df_perhe_johto.loc['Vastaajien määrä yht. 82 kpl'] = '31 kpl', '51 kpl'\n",
    "df_perhe_johto"
   ]
  },
  {
   "cell_type": "markdown",
   "metadata": {},
   "source": [
    "#### Kollegamuuttujan alkusiivous"
   ]
  },
  {
   "cell_type": "code",
   "execution_count": 163,
   "metadata": {},
   "outputs": [
    {
     "data": {
      "text/plain": [
       "gender                    0\n",
       "age                       0\n",
       "family                    0\n",
       "education                 1\n",
       "years_of_service          2\n",
       "salary                    0\n",
       "sat_management            0\n",
       "sat_colleques             1\n",
       "sat_workingEnvironment    0\n",
       "sat_salary                0\n",
       "sat_tasks                 0\n",
       "dtype: int64"
      ]
     },
     "execution_count": 163,
     "metadata": {},
     "output_type": "execute_result"
    }
   ],
   "source": [
    "# TYYTYVÄISYYS KOLLEGOIHIN / sat_colleques\n",
    "# arvot:\n",
    "# sat_colleques [ 3.  5.  4.  2. nan]\n",
    "# ei yhtään ykköstä\n",
    "df.isnull().sum()\n",
    "# yksi puuttuva arvo\n"
   ]
  },
  {
   "cell_type": "code",
   "execution_count": 164,
   "metadata": {},
   "outputs": [
    {
     "name": "stdout",
     "output_type": "stream",
     "text": [
      "    gender  age  family  education  years_of_service  salary  sat_management  \\\n",
      "56       1   61       2        2.0              36.0    3119               2   \n",
      "\n",
      "    sat_colleques  sat_workingEnvironment  sat_salary  sat_tasks  \n",
      "56            NaN                       2           1          5  \n"
     ]
    }
   ],
   "source": [
    "nan_or_zero_rows = df[df['sat_colleques'].isna() | (df['sat_colleques'] == 0)]\n",
    "print(nan_or_zero_rows)\n",
    "# rivi 56"
   ]
  },
  {
   "cell_type": "code",
   "execution_count": 165,
   "metadata": {},
   "outputs": [
    {
     "name": "stdout",
     "output_type": "stream",
     "text": [
      "4.061728395061729\n"
     ]
    }
   ],
   "source": [
    "# lasketaan tyytyväisyys kollegoihin keskiarvo \n",
    "kollegat_ka = df['sat_colleques'].mean()\n",
    "print(kollegat_ka)\n",
    "# ka 4.0617..."
   ]
  },
  {
   "cell_type": "code",
   "execution_count": 166,
   "metadata": {},
   "outputs": [
    {
     "name": "stdout",
     "output_type": "stream",
     "text": [
      "4.0\n"
     ]
    }
   ],
   "source": [
    "# mediaani\n",
    "kollegat_mediaani = df['sat_colleques'].median()\n",
    "print(kollegat_mediaani)\n",
    "# 4"
   ]
  },
  {
   "cell_type": "code",
   "execution_count": 167,
   "metadata": {},
   "outputs": [
    {
     "name": "stderr",
     "output_type": "stream",
     "text": [
      "C:\\Users\\SiniS\\AppData\\Local\\Temp\\ipykernel_19876\\896083815.py:1: FutureWarning: A value is trying to be set on a copy of a DataFrame or Series through chained assignment using an inplace method.\n",
      "The behavior will change in pandas 3.0. This inplace method will never work because the intermediate object on which we are setting values always behaves as a copy.\n",
      "\n",
      "For example, when doing 'df[col].method(value, inplace=True)', try using 'df.method({col: value}, inplace=True)' or df[col] = df[col].method(value) instead, to perform the operation inplace on the original object.\n",
      "\n",
      "\n",
      "  df['sat_colleques'].fillna(kollegat_mediaani,inplace=True)\n"
     ]
    }
   ],
   "source": [
    "df['sat_colleques'].fillna(kollegat_mediaani,inplace=True)"
   ]
  },
  {
   "cell_type": "code",
   "execution_count": 168,
   "metadata": {},
   "outputs": [
    {
     "name": "stdout",
     "output_type": "stream",
     "text": [
      "gender                       1.0\n",
      "age                         61.0\n",
      "family                       2.0\n",
      "education                    2.0\n",
      "years_of_service            36.0\n",
      "salary                    3119.0\n",
      "sat_management               2.0\n",
      "sat_colleques                4.0\n",
      "sat_workingEnvironment       2.0\n",
      "sat_salary                   1.0\n",
      "sat_tasks                    5.0\n",
      "Name: 56, dtype: float64\n"
     ]
    }
   ],
   "source": [
    "specific_row = df.loc[56]\n",
    "print(specific_row)"
   ]
  },
  {
   "cell_type": "code",
   "execution_count": 169,
   "metadata": {},
   "outputs": [
    {
     "name": "stdout",
     "output_type": "stream",
     "text": [
      "Tyytyväisyys kollegoihin\n",
      "Arvosana  Vastaukset\n",
      "       1           0\n",
      "       2           3\n",
      "       3          16\n",
      "       4          36\n",
      "       5          27\n",
      "Yhteensä          82\n"
     ]
    }
   ],
   "source": [
    "sat_vastausvaihtoehdot = [1, 2, 3, 4, 5]\n",
    "\n",
    "# jos arvoja ei ole niin 0\n",
    "vastaus_laskuri = df['sat_colleques'].value_counts().reindex(sat_vastausvaihtoehdot, fill_value=0)\n",
    "\n",
    "# datasetti arvosanoille ja vastauksille\n",
    "kollega_vastaukset = pd.DataFrame({'Arvosana': vastaus_laskuri.index, 'Vastaukset': vastaus_laskuri.values})\n",
    "\n",
    "# vastaus sarakkeeseen kootaan vastausten määrä per rivi\n",
    "vastaukset_yht = kollega_vastaukset['Vastaukset'].sum()\n",
    "\n",
    "\n",
    "vastaukset_rivi = pd.DataFrame({'Arvosana': ['Yhteensä'], 'Vastaukset': [vastaukset_yht]})\n",
    "\n",
    "kollega_vastaukset = pd.concat([kollega_vastaukset, vastaukset_rivi], ignore_index=True)\n",
    "\n",
    "print(\"Tyytyväisyys kollegoihin\")\n",
    "print(kollega_vastaukset.to_string(index=False))"
   ]
  },
  {
   "cell_type": "code",
   "execution_count": null,
   "metadata": {},
   "outputs": [],
   "source": [
    "\n"
   ]
  },
  {
   "cell_type": "markdown",
   "metadata": {},
   "source": [
    "#### Perhe + kollegat"
   ]
  },
  {
   "cell_type": "code",
   "execution_count": 170,
   "metadata": {},
   "outputs": [],
   "source": [
    "# PERHE + KOLLEGAT\n",
    "\n",
    "df_perhe_kollegat = pd.crosstab(df['sat_colleques'], df['family'])\n",
    "#df_perhe_kollegat.index = ['ei hyvä', 'en osaa sanoa / ok', 'ihan jees', 'tosi hyvä' ]\n",
    "df_perhe_kollegat.columns = ['perheetön', 'perheellinen']\n",
    "#df['sat_workingEnvironment'],df['sat_salary'],df['sat_tasks'],"
   ]
  },
  {
   "cell_type": "code",
   "execution_count": 171,
   "metadata": {},
   "outputs": [
    {
     "data": {
      "text/plain": [
       "Chi2ContingencyResult(statistic=np.float64(1.311054887904983), pvalue=np.float64(0.7265096726662), dof=3, expected_freq=array([[ 1.13414634,  1.86585366],\n",
       "       [ 6.04878049,  9.95121951],\n",
       "       [13.6097561 , 22.3902439 ],\n",
       "       [10.20731707, 16.79268293]]))"
      ]
     },
     "execution_count": 171,
     "metadata": {},
     "output_type": "execute_result"
    }
   ],
   "source": [
    "from scipy.stats import chi2_contingency\n",
    "chi2_contingency(df_perhe_kollegat)\n",
    "\n",
    "# pvalue=np.float64(0.7265096726662) --> ei riippuvuutta"
   ]
  },
  {
   "cell_type": "markdown",
   "metadata": {},
   "source": [
    "#### Perhe + työympäristö"
   ]
  },
  {
   "cell_type": "code",
   "execution_count": 172,
   "metadata": {},
   "outputs": [
    {
     "data": {
      "text/plain": [
       "Chi2ContingencyResult(statistic=np.float64(8.47270716126421), pvalue=np.float64(0.07571884501720708), dof=4, expected_freq=array([[ 3.40243902,  5.59756098],\n",
       "       [ 3.40243902,  5.59756098],\n",
       "       [11.34146341, 18.65853659],\n",
       "       [ 8.69512195, 14.30487805],\n",
       "       [ 4.15853659,  6.84146341]]))"
      ]
     },
     "execution_count": 172,
     "metadata": {},
     "output_type": "execute_result"
    }
   ],
   "source": [
    "# PERHE + TYÖYMPÄRISTÖ\n",
    "\n",
    "df_perhe_ymparisto = pd.crosstab(df['sat_workingEnvironment'], df['family'])\n",
    "#df_perhe_kollegat.index = ['ei hyvä', 'en osaa sanoa / ok', 'ihan jees', 'tosi hyvä' ]\n",
    "df_perhe_ymparisto.columns = ['perheetön', 'perheellinen']\n",
    "#,df['sat_salary'],df['sat_tasks'],\n",
    "\n",
    "\n",
    "chi2_contingency(df_perhe_ymparisto)\n",
    "\n",
    "# pvalue=np.float64(0.07571884501720708) --> ei riippuvuutta"
   ]
  },
  {
   "cell_type": "markdown",
   "metadata": {},
   "source": [
    "#### Perhe + palkka"
   ]
  },
  {
   "cell_type": "code",
   "execution_count": 173,
   "metadata": {},
   "outputs": [
    {
     "data": {
      "text/plain": [
       "Chi2ContingencyResult(statistic=np.float64(4.88495783763935), pvalue=np.float64(0.2993065167615922), dof=4, expected_freq=array([[12.47560976, 20.52439024],\n",
       "       [ 7.18292683, 11.81707317],\n",
       "       [ 7.18292683, 11.81707317],\n",
       "       [ 3.7804878 ,  6.2195122 ],\n",
       "       [ 0.37804878,  0.62195122]]))"
      ]
     },
     "execution_count": 173,
     "metadata": {},
     "output_type": "execute_result"
    }
   ],
   "source": [
    "# PERHE + PALKKA\n",
    "\n",
    "df_perhe_palkka = pd.crosstab(df['sat_salary'], df['family'])\n",
    "#df_perhe_kollegat.index = ['ei hyvä', 'en osaa sanoa / ok', 'ihan jees', 'tosi hyvä' ]\n",
    "df_perhe_palkka.columns = ['perheetön', 'perheellinen']\n",
    "#,df['sat_tasks'],\n",
    "chi2_contingency(df_perhe_palkka)\n",
    "\n",
    "# pvalue=np.float64(0.2993065167615922) --> ei riippuvuutta\n"
   ]
  },
  {
   "cell_type": "markdown",
   "metadata": {},
   "source": [
    "#### Perhe + tehtävät --> esitykseen"
   ]
  },
  {
   "cell_type": "code",
   "execution_count": 174,
   "metadata": {},
   "outputs": [
    {
     "data": {
      "text/html": [
       "<div>\n",
       "<style scoped>\n",
       "    .dataframe tbody tr th:only-of-type {\n",
       "        vertical-align: middle;\n",
       "    }\n",
       "\n",
       "    .dataframe tbody tr th {\n",
       "        vertical-align: top;\n",
       "    }\n",
       "\n",
       "    .dataframe thead th {\n",
       "        text-align: right;\n",
       "    }\n",
       "</style>\n",
       "<table border=\"1\" class=\"dataframe\">\n",
       "  <thead>\n",
       "    <tr style=\"text-align: right;\">\n",
       "      <th>Tyytyväisyys työtehtäviin</th>\n",
       "      <th>perheetön</th>\n",
       "      <th>perheellinen</th>\n",
       "    </tr>\n",
       "  </thead>\n",
       "  <tbody>\n",
       "    <tr>\n",
       "      <th>Tyytymätön</th>\n",
       "      <td>3</td>\n",
       "      <td>2</td>\n",
       "    </tr>\n",
       "    <tr>\n",
       "      <th>Jokseenkin tyytymätön</th>\n",
       "      <td>9</td>\n",
       "      <td>6</td>\n",
       "    </tr>\n",
       "    <tr>\n",
       "      <th>En osaa sanoa</th>\n",
       "      <td>13</td>\n",
       "      <td>16</td>\n",
       "    </tr>\n",
       "    <tr>\n",
       "      <th>Jokseenkin tyytyväinen</th>\n",
       "      <td>4</td>\n",
       "      <td>21</td>\n",
       "    </tr>\n",
       "    <tr>\n",
       "      <th>Tyytyväinen</th>\n",
       "      <td>2</td>\n",
       "      <td>6</td>\n",
       "    </tr>\n",
       "    <tr>\n",
       "      <th>Vastaajien määrä yht.</th>\n",
       "      <td>31</td>\n",
       "      <td>51</td>\n",
       "    </tr>\n",
       "  </tbody>\n",
       "</table>\n",
       "</div>"
      ],
      "text/plain": [
       "Tyytyväisyys työtehtäviin   perheetön  perheellinen\n",
       "Tyytymätön                          3             2\n",
       "Jokseenkin tyytymätön               9             6\n",
       "En osaa sanoa                      13            16\n",
       "Jokseenkin tyytyväinen              4            21\n",
       "Tyytyväinen                         2             6\n",
       "Vastaajien määrä yht.              31            51"
      ]
     },
     "execution_count": 174,
     "metadata": {},
     "output_type": "execute_result"
    }
   ],
   "source": [
    "# PERHE + TEHTÄVÄT\n",
    "\n",
    "df_perhe_tyoteht = pd.crosstab(df['sat_tasks'], df['family'])\n",
    "df_perhe_tyoteht.index = ['Tyytymätön', 'Jokseenkin tyytymätön', 'En osaa sanoa', 'Jokseenkin tyytyväinen', 'Tyytyväinen' ]\n",
    "df_perhe_tyoteht.columns = ['perheetön', 'perheellinen']\n",
    "df_perhe_tyoteht.columns.name='Tyytyväisyys työtehtäviin '\n",
    "df_perhe_tyoteht.loc['Vastaajien määrä yht.'] = df_perhe_tyoteht.sum()\n",
    "df_perhe_tyoteht\n",
    "\n",
    "#chi2_contingency(df_perhe_tyoteht)\n",
    "\n",
    "# pvalue=np.float64(0.0340357152085103) --> melkein merkitsevä riippuvuus?"
   ]
  },
  {
   "cell_type": "code",
   "execution_count": 175,
   "metadata": {},
   "outputs": [
    {
     "name": "stdout",
     "output_type": "stream",
     "text": [
      "Tyytyväisyys työtehtäviin   perheetön  perheellinen  VastauksetYht\n",
      "Tyytymätön                          3             2              5\n",
      "Jokseenkin tyytymätön               9             6             15\n",
      "En osaa sanoa                      13            16             29\n",
      "Jokseenkin tyytyväinen              4            21             25\n",
      "Tyytyväinen                         2             6              8\n",
      "Vastaajien määrä yht.              31            51             82\n"
     ]
    }
   ],
   "source": [
    "perhe_tyoteht_yht_vastaukset = df_perhe_tyoteht.assign(VastauksetYht=df_perhe_tyoteht.sum(axis=1))\n",
    "\n",
    "print(perhe_tyoteht_yht_vastaukset)"
   ]
  },
  {
   "cell_type": "code",
   "execution_count": 176,
   "metadata": {},
   "outputs": [
    {
     "data": {
      "text/html": [
       "<div>\n",
       "<style scoped>\n",
       "    .dataframe tbody tr th:only-of-type {\n",
       "        vertical-align: middle;\n",
       "    }\n",
       "\n",
       "    .dataframe tbody tr th {\n",
       "        vertical-align: top;\n",
       "    }\n",
       "\n",
       "    .dataframe thead th {\n",
       "        text-align: right;\n",
       "    }\n",
       "</style>\n",
       "<table border=\"1\" class=\"dataframe\">\n",
       "  <thead>\n",
       "    <tr style=\"text-align: right;\">\n",
       "      <th>Tyytyväisyys työtehtäviin prosenttijakauma</th>\n",
       "      <th>perheetön</th>\n",
       "      <th>perheellinen</th>\n",
       "    </tr>\n",
       "  </thead>\n",
       "  <tbody>\n",
       "    <tr>\n",
       "      <th>Tyytymätön</th>\n",
       "      <td>9.7</td>\n",
       "      <td>3.9</td>\n",
       "    </tr>\n",
       "    <tr>\n",
       "      <th>Jokseenkin tyytymätön</th>\n",
       "      <td>29</td>\n",
       "      <td>11.8</td>\n",
       "    </tr>\n",
       "    <tr>\n",
       "      <th>En osaa sanoa</th>\n",
       "      <td>41.9</td>\n",
       "      <td>31.4</td>\n",
       "    </tr>\n",
       "    <tr>\n",
       "      <th>Jokseenkin tyytyväinen</th>\n",
       "      <td>12.9</td>\n",
       "      <td>41.2</td>\n",
       "    </tr>\n",
       "    <tr>\n",
       "      <th>Tyytyväinen</th>\n",
       "      <td>6.5</td>\n",
       "      <td>11.8</td>\n",
       "    </tr>\n",
       "    <tr>\n",
       "      <th>Yhteensä %</th>\n",
       "      <td>100</td>\n",
       "      <td>100</td>\n",
       "    </tr>\n",
       "    <tr>\n",
       "      <th>Vastaukset kyselyyn yht. 82 kpl</th>\n",
       "      <td>31 kpl</td>\n",
       "      <td>51 kpl</td>\n",
       "    </tr>\n",
       "  </tbody>\n",
       "</table>\n",
       "</div>"
      ],
      "text/plain": [
       "Tyytyväisyys työtehtäviin prosenttijakauma  perheetön perheellinen\n",
       "Tyytymätön                                        9.7          3.9\n",
       "Jokseenkin tyytymätön                              29         11.8\n",
       "En osaa sanoa                                    41.9         31.4\n",
       "Jokseenkin tyytyväinen                           12.9         41.2\n",
       "Tyytyväinen                                       6.5         11.8\n",
       "Yhteensä %                                        100          100\n",
       "Vastaukset kyselyyn yht. 82 kpl                31 kpl       51 kpl"
      ]
     },
     "execution_count": 176,
     "metadata": {},
     "output_type": "execute_result"
    }
   ],
   "source": [
    "df_perhe_tyoteht_prosentteina = pd.crosstab(df['sat_tasks'], df['family'],normalize = 'columns')*100\n",
    "df_perhe_tyoteht_prosentteina.index = ['Tyytymätön', 'Jokseenkin tyytymätön', 'En osaa sanoa', 'Jokseenkin tyytyväinen', 'Tyytyväinen' ]\n",
    "df_perhe_tyoteht_prosentteina.columns = ['perheetön', 'perheellinen']\n",
    "df_perhe_tyoteht_prosentteina.columns.name='Tyytyväisyys työtehtäviin prosenttijakauma '\n",
    "\n",
    "\n",
    "df_perhe_tyoteht_prosentteina.loc['Yhteensä %'] = df_perhe_tyoteht_prosentteina.sum()\n",
    "\n",
    "df_perhe_tyoteht_prosentteina['perheetön'] = df_perhe_tyoteht_prosentteina['perheetön'].apply(lambda x: '{:.1f}'.format(x).rstrip('0').rstrip('.'))\n",
    "df_perhe_tyoteht_prosentteina['perheellinen'] = df_perhe_tyoteht_prosentteina['perheellinen'].apply(lambda x: '{:.1f}'.format(x).rstrip('0').rstrip('.'))\n",
    "df_perhe_tyoteht_prosentteina.loc['Vastaukset kyselyyn yht. 82 kpl']= ('31 kpl', '51 kpl')\n",
    "df_perhe_tyoteht_prosentteina\n",
    "\n",
    "# Näyttäisi siltä, että perheelliset ovat tyytyväisempiä työtehtäviinsä kuin perheettömät, \n",
    "# erityisesti vastauksia arvolla 4 on huomattavasti enemmän perheellisten vastauksissa kuin perheettömien osalta"
   ]
  },
  {
   "cell_type": "code",
   "execution_count": 6,
   "metadata": {},
   "outputs": [
    {
     "data": {
      "image/png": "[encoded data removed]",
      "text/plain": [
       "<Figure size 1000x600 with 1 Axes>"
      ]
     },
     "metadata": {},
     "output_type": "display_data"
    }
   ],
   "source": [
    "tyytyvaisyys_tyo_perhe = {\n",
    "    \"Tyytyväisyys\": [\"Tyytymätön\", \"Jokseenkin tyytymätön\", \"En osaa sanoa\", \"Jokseenkin tyytyväinen\", \"Tyytyväinen\"],\n",
    "    \"Perheetön (%)\": [9.7, 29 , 41.9 , 12.9 , 6.5],\n",
    "    \"Perheellinen (%)\": [3.9, 11.8,31.4, 41.2, 11.8 ]\n",
    "}\n",
    "\n",
    "# Create a DataFrame\n",
    "df = pd.DataFrame(tyytyvaisyys_tyo_perhe)\n",
    "\n",
    "# Set 'Tyytyväisyys' as the index\n",
    "df.set_index(\"Tyytyväisyys\", inplace=True)\n",
    "\n",
    "# Plot a horizontal stacked bar chart\n",
    "df.plot.barh(stacked=True, figsize=(10, 6), color=['c', 'y'])\n",
    "\n",
    "# Adding labels and title\n",
    "plt.title('Tyytyväisyys työtehtäviin prosenttijakauma, N = 82')\n",
    "plt.xlabel('Prosenttijakauma (%)')\n",
    "plt.ylabel('Tyytyväisyys')\n",
    "plt.legend(title='Perhetilanne')\n",
    "\n",
    "# Show the plot\n",
    "plt.tight_layout()\n",
    "plt.show()"
   ]
  },
  {
   "cell_type": "markdown",
   "metadata": {},
   "source": [
    "#### Työskentelyvuodet / years_of_service"
   ]
  },
  {
   "cell_type": "code",
   "execution_count": 177,
   "metadata": {},
   "outputs": [],
   "source": [
    "# years_of_service / työskentelyvuodet - numeerinen muuttuja, joka muutettava luokiteltavaksi muuttujaksi\n",
    "# the years of service for the company - eli siis vain täydet vuodet / jos työskennellyt alle vuoden, on arvo 0?\n",
    "# 80 vastausta / 82 \n",
    "# täällä on kaksi riviä, joissa ei ole lainkaan arvoa - etsi ja tarkista"
   ]
  },
  {
   "cell_type": "code",
   "execution_count": 178,
   "metadata": {},
   "outputs": [
    {
     "data": {
      "text/html": [
       "<div>\n",
       "<style scoped>\n",
       "    .dataframe tbody tr th:only-of-type {\n",
       "        vertical-align: middle;\n",
       "    }\n",
       "\n",
       "    .dataframe tbody tr th {\n",
       "        vertical-align: top;\n",
       "    }\n",
       "\n",
       "    .dataframe thead th {\n",
       "        text-align: right;\n",
       "    }\n",
       "</style>\n",
       "<table border=\"1\" class=\"dataframe\">\n",
       "  <thead>\n",
       "    <tr style=\"text-align: right;\">\n",
       "      <th></th>\n",
       "      <th>gender</th>\n",
       "      <th>age</th>\n",
       "      <th>family</th>\n",
       "      <th>education</th>\n",
       "      <th>years_of_service</th>\n",
       "      <th>salary</th>\n",
       "      <th>sat_management</th>\n",
       "      <th>sat_colleques</th>\n",
       "      <th>sat_workingEnvironment</th>\n",
       "      <th>sat_salary</th>\n",
       "      <th>sat_tasks</th>\n",
       "    </tr>\n",
       "  </thead>\n",
       "  <tbody>\n",
       "    <tr>\n",
       "      <th>56</th>\n",
       "      <td>1</td>\n",
       "      <td>61</td>\n",
       "      <td>2</td>\n",
       "      <td>2.0</td>\n",
       "      <td>36.0</td>\n",
       "      <td>3119</td>\n",
       "      <td>2</td>\n",
       "      <td>4.0</td>\n",
       "      <td>2</td>\n",
       "      <td>1</td>\n",
       "      <td>5</td>\n",
       "    </tr>\n",
       "    <tr>\n",
       "      <th>44</th>\n",
       "      <td>1</td>\n",
       "      <td>55</td>\n",
       "      <td>2</td>\n",
       "      <td>1.0</td>\n",
       "      <td>35.0</td>\n",
       "      <td>2651</td>\n",
       "      <td>4</td>\n",
       "      <td>5.0</td>\n",
       "      <td>4</td>\n",
       "      <td>2</td>\n",
       "      <td>4</td>\n",
       "    </tr>\n",
       "    <tr>\n",
       "      <th>45</th>\n",
       "      <td>2</td>\n",
       "      <td>51</td>\n",
       "      <td>2</td>\n",
       "      <td>1.0</td>\n",
       "      <td>28.0</td>\n",
       "      <td>1989</td>\n",
       "      <td>3</td>\n",
       "      <td>3.0</td>\n",
       "      <td>2</td>\n",
       "      <td>2</td>\n",
       "      <td>3</td>\n",
       "    </tr>\n",
       "  </tbody>\n",
       "</table>\n",
       "</div>"
      ],
      "text/plain": [
       "    gender  age  family  education  years_of_service  salary  sat_management  \\\n",
       "56       1   61       2        2.0              36.0    3119               2   \n",
       "44       1   55       2        1.0              35.0    2651               4   \n",
       "45       2   51       2        1.0              28.0    1989               3   \n",
       "\n",
       "    sat_colleques  sat_workingEnvironment  sat_salary  sat_tasks  \n",
       "56            4.0                       2           1          5  \n",
       "44            5.0                       4           2          4  \n",
       "45            3.0                       2           2          3  "
      ]
     },
     "execution_count": 178,
     "metadata": {},
     "output_type": "execute_result"
    }
   ],
   "source": [
    "df.nlargest(n = 3, columns = 'years_of_service')\n",
    "# pisimpään työskennellyt 36 vuotta"
   ]
  },
  {
   "cell_type": "code",
   "execution_count": 179,
   "metadata": {},
   "outputs": [
    {
     "data": {
      "text/html": [
       "<div>\n",
       "<style scoped>\n",
       "    .dataframe tbody tr th:only-of-type {\n",
       "        vertical-align: middle;\n",
       "    }\n",
       "\n",
       "    .dataframe tbody tr th {\n",
       "        vertical-align: top;\n",
       "    }\n",
       "\n",
       "    .dataframe thead th {\n",
       "        text-align: right;\n",
       "    }\n",
       "</style>\n",
       "<table border=\"1\" class=\"dataframe\">\n",
       "  <thead>\n",
       "    <tr style=\"text-align: right;\">\n",
       "      <th></th>\n",
       "      <th>gender</th>\n",
       "      <th>age</th>\n",
       "      <th>family</th>\n",
       "      <th>education</th>\n",
       "      <th>years_of_service</th>\n",
       "      <th>salary</th>\n",
       "      <th>sat_management</th>\n",
       "      <th>sat_colleques</th>\n",
       "      <th>sat_workingEnvironment</th>\n",
       "      <th>sat_salary</th>\n",
       "      <th>sat_tasks</th>\n",
       "    </tr>\n",
       "  </thead>\n",
       "  <tbody>\n",
       "    <tr>\n",
       "      <th>7</th>\n",
       "      <td>1</td>\n",
       "      <td>55</td>\n",
       "      <td>1</td>\n",
       "      <td>1.0</td>\n",
       "      <td>0.0</td>\n",
       "      <td>2066</td>\n",
       "      <td>3</td>\n",
       "      <td>5.0</td>\n",
       "      <td>3</td>\n",
       "      <td>1</td>\n",
       "      <td>3</td>\n",
       "    </tr>\n",
       "    <tr>\n",
       "      <th>35</th>\n",
       "      <td>1</td>\n",
       "      <td>31</td>\n",
       "      <td>2</td>\n",
       "      <td>3.0</td>\n",
       "      <td>0.0</td>\n",
       "      <td>1559</td>\n",
       "      <td>2</td>\n",
       "      <td>4.0</td>\n",
       "      <td>3</td>\n",
       "      <td>1</td>\n",
       "      <td>3</td>\n",
       "    </tr>\n",
       "    <tr>\n",
       "      <th>61</th>\n",
       "      <td>1</td>\n",
       "      <td>40</td>\n",
       "      <td>2</td>\n",
       "      <td>1.0</td>\n",
       "      <td>0.0</td>\n",
       "      <td>1872</td>\n",
       "      <td>2</td>\n",
       "      <td>3.0</td>\n",
       "      <td>1</td>\n",
       "      <td>2</td>\n",
       "      <td>3</td>\n",
       "    </tr>\n",
       "  </tbody>\n",
       "</table>\n",
       "</div>"
      ],
      "text/plain": [
       "    gender  age  family  education  years_of_service  salary  sat_management  \\\n",
       "7        1   55       1        1.0               0.0    2066               3   \n",
       "35       1   31       2        3.0               0.0    1559               2   \n",
       "61       1   40       2        1.0               0.0    1872               2   \n",
       "\n",
       "    sat_colleques  sat_workingEnvironment  sat_salary  sat_tasks  \n",
       "7             5.0                       3           1          3  \n",
       "35            4.0                       3           1          3  \n",
       "61            3.0                       1           2          3  "
      ]
     },
     "execution_count": 179,
     "metadata": {},
     "output_type": "execute_result"
    }
   ],
   "source": [
    "df.nsmallest(n = 3, columns = 'years_of_service')\n",
    "# lyhyimmän aikaa 0 vuotta eli alle 1 vuoden?"
   ]
  },
  {
   "cell_type": "code",
   "execution_count": 180,
   "metadata": {},
   "outputs": [
    {
     "data": {
      "text/plain": [
       "gender                    0\n",
       "age                       0\n",
       "family                    0\n",
       "education                 1\n",
       "years_of_service          2\n",
       "salary                    0\n",
       "sat_management            0\n",
       "sat_colleques             0\n",
       "sat_workingEnvironment    0\n",
       "sat_salary                0\n",
       "sat_tasks                 0\n",
       "dtype: int64"
      ]
     },
     "execution_count": 180,
     "metadata": {},
     "output_type": "execute_result"
    }
   ],
   "source": [
    "# puuttuvien rivien määrä 2\n",
    "df.isnull().sum()"
   ]
  },
  {
   "cell_type": "code",
   "execution_count": 181,
   "metadata": {},
   "outputs": [
    {
     "name": "stdout",
     "output_type": "stream",
     "text": [
      "    gender  age  family  education  years_of_service  salary  sat_management  \\\n",
      "7        1   55       1        1.0               0.0    2066               3   \n",
      "29       1   21       1        NaN               NaN    1949               4   \n",
      "35       1   31       2        3.0               0.0    1559               2   \n",
      "57       1   38       2        2.0               NaN    2574               2   \n",
      "61       1   40       2        1.0               0.0    1872               2   \n",
      "77       1   22       1        3.0               0.0    1598               4   \n",
      "\n",
      "    sat_colleques  sat_workingEnvironment  sat_salary  sat_tasks  \n",
      "7             5.0                       3           1          3  \n",
      "29            4.0                       3           3          2  \n",
      "35            4.0                       3           1          3  \n",
      "57            3.0                       1           1          2  \n",
      "61            3.0                       1           2          3  \n",
      "77            4.0                       4           3          4  \n"
     ]
    }
   ],
   "source": [
    "# NaN & 0 rivit palvelusvuosissa --> NaN rivit 29 ja 57\n",
    "nan_or_zero_rows = df[df['years_of_service'].isna() | (df['years_of_service'] == 0)]\n",
    "print(nan_or_zero_rows)"
   ]
  },
  {
   "cell_type": "code",
   "execution_count": 182,
   "metadata": {},
   "outputs": [
    {
     "name": "stdout",
     "output_type": "stream",
     "text": [
      "    gender  age  family  education  years_of_service  salary  sat_management  \\\n",
      "29       1   21       1        NaN               NaN    1949               4   \n",
      "57       1   38       2        2.0               NaN    2574               2   \n",
      "\n",
      "    sat_colleques  sat_workingEnvironment  sat_salary  sat_tasks  \n",
      "29            4.0                       3           3          2  \n",
      "57            3.0                       1           1          2  \n"
     ]
    }
   ],
   "source": [
    "nan_rows = df[df['years_of_service'].isna()]\n",
    "print(nan_rows)"
   ]
  },
  {
   "cell_type": "code",
   "execution_count": 183,
   "metadata": {},
   "outputs": [
    {
     "data": {
      "text/plain": [
       "gender                    0\n",
       "age                       0\n",
       "family                    0\n",
       "education                 0\n",
       "years_of_service          0\n",
       "salary                    0\n",
       "sat_management            0\n",
       "sat_colleques             0\n",
       "sat_workingEnvironment    0\n",
       "sat_salary                0\n",
       "sat_tasks                 0\n",
       "dtype: int64"
      ]
     },
     "execution_count": 183,
     "metadata": {},
     "output_type": "execute_result"
    }
   ],
   "source": [
    "# subsetti, josta poistettu nan rivit\n",
    "df_palvelusvuodet_ilman_tyhjiä = df.dropna(subset=['years_of_service'])\n",
    "df_palvelusvuodet_ilman_tyhjiä = df[df['years_of_service'].notna()]\n",
    "\n",
    "df_palvelusvuodet_ilman_tyhjiä.isnull().sum()\n",
    "\n"
   ]
  },
  {
   "cell_type": "code",
   "execution_count": 184,
   "metadata": {},
   "outputs": [
    {
     "name": "stdout",
     "output_type": "stream",
     "text": [
      "12.175\n"
     ]
    }
   ],
   "source": [
    "# lasketaan keskiarvo \n",
    "palvelusvuodet_ka = df_palvelusvuodet_ilman_tyhjiä['years_of_service'].mean()\n",
    "print(palvelusvuodet_ka)"
   ]
  },
  {
   "cell_type": "code",
   "execution_count": 185,
   "metadata": {},
   "outputs": [
    {
     "name": "stdout",
     "output_type": "stream",
     "text": [
      "12\n"
     ]
    }
   ],
   "source": [
    "# pyöristetään keskiarvo lähimpään täyteen lukuun, koska työskentelyvuodet ovat täysiä lukuja\n",
    "\n",
    "palvelusvuodet_ka_pyoristetty = round(palvelusvuodet_ka)\n",
    "print(palvelusvuodet_ka_pyoristetty)"
   ]
  },
  {
   "cell_type": "code",
   "execution_count": 186,
   "metadata": {},
   "outputs": [
    {
     "name": "stdout",
     "output_type": "stream",
     "text": [
      "12.5\n"
     ]
    }
   ],
   "source": [
    "# mediaani\n",
    "palvelusvuodet_mediaani = df_palvelusvuodet_ilman_tyhjiä['years_of_service'].median()\n",
    "print(palvelusvuodet_mediaani)"
   ]
  },
  {
   "cell_type": "code",
   "execution_count": 187,
   "metadata": {},
   "outputs": [
    {
     "name": "stderr",
     "output_type": "stream",
     "text": [
      "C:\\Users\\SiniS\\AppData\\Local\\Temp\\ipykernel_19876\\465653198.py:3: FutureWarning: A value is trying to be set on a copy of a DataFrame or Series through chained assignment using an inplace method.\n",
      "The behavior will change in pandas 3.0. This inplace method will never work because the intermediate object on which we are setting values always behaves as a copy.\n",
      "\n",
      "For example, when doing 'df[col].method(value, inplace=True)', try using 'df.method({col: value}, inplace=True)' or df[col] = df[col].method(value) instead, to perform the operation inplace on the original object.\n",
      "\n",
      "\n",
      "  df['years_of_service'].fillna(palvelusvuodet_ka_pyoristetty,inplace=True)\n"
     ]
    }
   ],
   "source": [
    "# täytetään tyhjien rivien nan arvot keskiarvolla\n",
    "\n",
    "df['years_of_service'].fillna(palvelusvuodet_ka_pyoristetty,inplace=True)"
   ]
  },
  {
   "cell_type": "code",
   "execution_count": 188,
   "metadata": {},
   "outputs": [
    {
     "data": {
      "text/plain": [
       "gender                    0\n",
       "age                       0\n",
       "family                    0\n",
       "education                 1\n",
       "years_of_service          0\n",
       "salary                    0\n",
       "sat_management            0\n",
       "sat_colleques             0\n",
       "sat_workingEnvironment    0\n",
       "sat_salary                0\n",
       "sat_tasks                 0\n",
       "dtype: int64"
      ]
     },
     "execution_count": 188,
     "metadata": {},
     "output_type": "execute_result"
    }
   ],
   "source": [
    "df.isnull().sum()"
   ]
  },
  {
   "cell_type": "code",
   "execution_count": 189,
   "metadata": {},
   "outputs": [
    {
     "name": "stdout",
     "output_type": "stream",
     "text": [
      "gender                       1.0\n",
      "age                         21.0\n",
      "family                       1.0\n",
      "education                    NaN\n",
      "years_of_service            12.0\n",
      "salary                    1949.0\n",
      "sat_management               4.0\n",
      "sat_colleques                4.0\n",
      "sat_workingEnvironment       3.0\n",
      "sat_salary                   3.0\n",
      "sat_tasks                    2.0\n",
      "Name: 29, dtype: float64\n"
     ]
    }
   ],
   "source": [
    "# tarkistetaan onko arvot taulukossa riveillä 29 & 57\n",
    "specific_row = df.loc[29]\n",
    "print(specific_row)"
   ]
  },
  {
   "cell_type": "code",
   "execution_count": 190,
   "metadata": {},
   "outputs": [
    {
     "name": "stdout",
     "output_type": "stream",
     "text": [
      "gender                       1.0\n",
      "age                         38.0\n",
      "family                       2.0\n",
      "education                    2.0\n",
      "years_of_service            12.0\n",
      "salary                    2574.0\n",
      "sat_management               2.0\n",
      "sat_colleques                3.0\n",
      "sat_workingEnvironment       1.0\n",
      "sat_salary                   1.0\n",
      "sat_tasks                    2.0\n",
      "Name: 57, dtype: float64\n"
     ]
    }
   ],
   "source": [
    "specific_row = df.loc[57]\n",
    "print(specific_row)"
   ]
  },
  {
   "cell_type": "code",
   "execution_count": null,
   "metadata": {},
   "outputs": [],
   "source": []
  },
  {
   "cell_type": "markdown",
   "metadata": {},
   "source": [
    "##### Palvelusvuosien keskijakauma"
   ]
  },
  {
   "cell_type": "code",
   "execution_count": 191,
   "metadata": {},
   "outputs": [
    {
     "data": {
      "text/plain": [
       "Text(0.5, 0, 'Palvelusvuodet, n=82')"
      ]
     },
     "execution_count": 191,
     "metadata": {},
     "output_type": "execute_result"
    },
    {
     "data": {
      "image/png": "[encoded data removed]",
      "text/plain": [
       "<Figure size 640x480 with 1 Axes>"
      ]
     },
     "metadata": {},
     "output_type": "display_data"
    }
   ],
   "source": [
    "# PALVELUSVUOSIEN KESKIJAKAUMA\n",
    "ax3 = sns.boxplot(x = df['years_of_service'])\n",
    "\n",
    "ax3.set_xlabel('Palvelusvuodet, n=' + str(df['years_of_service'].count()))"
   ]
  },
  {
   "cell_type": "code",
   "execution_count": 192,
   "metadata": {},
   "outputs": [],
   "source": [
    "# jakaminen laatikoihin\n",
    "# min 0, max 36\n",
    "# 0-5, 5-15, 15-25, 25-(37)\n",
    "\n",
    "bins = [0, 5, 15, 25, 37]\n",
    "df['palvelusvuosiluokka'] = pd.cut(df['years_of_service'], bins = bins,right=False)"
   ]
  },
  {
   "cell_type": "code",
   "execution_count": 193,
   "metadata": {},
   "outputs": [
    {
     "data": {
      "text/html": [
       "<div>\n",
       "<style scoped>\n",
       "    .dataframe tbody tr th:only-of-type {\n",
       "        vertical-align: middle;\n",
       "    }\n",
       "\n",
       "    .dataframe tbody tr th {\n",
       "        vertical-align: top;\n",
       "    }\n",
       "\n",
       "    .dataframe thead th {\n",
       "        text-align: right;\n",
       "    }\n",
       "</style>\n",
       "<table border=\"1\" class=\"dataframe\">\n",
       "  <thead>\n",
       "    <tr style=\"text-align: right;\">\n",
       "      <th></th>\n",
       "      <th>gender</th>\n",
       "      <th>age</th>\n",
       "      <th>family</th>\n",
       "      <th>education</th>\n",
       "      <th>years_of_service</th>\n",
       "      <th>salary</th>\n",
       "      <th>sat_management</th>\n",
       "      <th>sat_colleques</th>\n",
       "      <th>sat_workingEnvironment</th>\n",
       "      <th>sat_salary</th>\n",
       "      <th>sat_tasks</th>\n",
       "      <th>palvelusvuosiluokka</th>\n",
       "    </tr>\n",
       "  </thead>\n",
       "  <tbody>\n",
       "    <tr>\n",
       "      <th>0</th>\n",
       "      <td>1</td>\n",
       "      <td>38</td>\n",
       "      <td>1</td>\n",
       "      <td>1.0</td>\n",
       "      <td>22.0</td>\n",
       "      <td>3587</td>\n",
       "      <td>3</td>\n",
       "      <td>3.0</td>\n",
       "      <td>3</td>\n",
       "      <td>3</td>\n",
       "      <td>3</td>\n",
       "      <td>[15, 25)</td>\n",
       "    </tr>\n",
       "    <tr>\n",
       "      <th>1</th>\n",
       "      <td>1</td>\n",
       "      <td>29</td>\n",
       "      <td>2</td>\n",
       "      <td>2.0</td>\n",
       "      <td>10.0</td>\n",
       "      <td>2963</td>\n",
       "      <td>1</td>\n",
       "      <td>5.0</td>\n",
       "      <td>2</td>\n",
       "      <td>1</td>\n",
       "      <td>3</td>\n",
       "      <td>[5, 15)</td>\n",
       "    </tr>\n",
       "    <tr>\n",
       "      <th>2</th>\n",
       "      <td>1</td>\n",
       "      <td>30</td>\n",
       "      <td>1</td>\n",
       "      <td>1.0</td>\n",
       "      <td>7.0</td>\n",
       "      <td>1989</td>\n",
       "      <td>3</td>\n",
       "      <td>4.0</td>\n",
       "      <td>1</td>\n",
       "      <td>1</td>\n",
       "      <td>3</td>\n",
       "      <td>[5, 15)</td>\n",
       "    </tr>\n",
       "    <tr>\n",
       "      <th>3</th>\n",
       "      <td>1</td>\n",
       "      <td>36</td>\n",
       "      <td>2</td>\n",
       "      <td>1.0</td>\n",
       "      <td>14.0</td>\n",
       "      <td>2144</td>\n",
       "      <td>3</td>\n",
       "      <td>3.0</td>\n",
       "      <td>3</td>\n",
       "      <td>3</td>\n",
       "      <td>3</td>\n",
       "      <td>[5, 15)</td>\n",
       "    </tr>\n",
       "    <tr>\n",
       "      <th>4</th>\n",
       "      <td>1</td>\n",
       "      <td>24</td>\n",
       "      <td>1</td>\n",
       "      <td>2.0</td>\n",
       "      <td>4.0</td>\n",
       "      <td>2183</td>\n",
       "      <td>2</td>\n",
       "      <td>3.0</td>\n",
       "      <td>2</td>\n",
       "      <td>1</td>\n",
       "      <td>2</td>\n",
       "      <td>[0, 5)</td>\n",
       "    </tr>\n",
       "    <tr>\n",
       "      <th>...</th>\n",
       "      <td>...</td>\n",
       "      <td>...</td>\n",
       "      <td>...</td>\n",
       "      <td>...</td>\n",
       "      <td>...</td>\n",
       "      <td>...</td>\n",
       "      <td>...</td>\n",
       "      <td>...</td>\n",
       "      <td>...</td>\n",
       "      <td>...</td>\n",
       "      <td>...</td>\n",
       "      <td>...</td>\n",
       "    </tr>\n",
       "    <tr>\n",
       "      <th>77</th>\n",
       "      <td>1</td>\n",
       "      <td>22</td>\n",
       "      <td>1</td>\n",
       "      <td>3.0</td>\n",
       "      <td>0.0</td>\n",
       "      <td>1598</td>\n",
       "      <td>4</td>\n",
       "      <td>4.0</td>\n",
       "      <td>4</td>\n",
       "      <td>3</td>\n",
       "      <td>4</td>\n",
       "      <td>[0, 5)</td>\n",
       "    </tr>\n",
       "    <tr>\n",
       "      <th>78</th>\n",
       "      <td>1</td>\n",
       "      <td>33</td>\n",
       "      <td>1</td>\n",
       "      <td>1.0</td>\n",
       "      <td>2.0</td>\n",
       "      <td>1638</td>\n",
       "      <td>1</td>\n",
       "      <td>3.0</td>\n",
       "      <td>2</td>\n",
       "      <td>1</td>\n",
       "      <td>2</td>\n",
       "      <td>[0, 5)</td>\n",
       "    </tr>\n",
       "    <tr>\n",
       "      <th>79</th>\n",
       "      <td>1</td>\n",
       "      <td>27</td>\n",
       "      <td>1</td>\n",
       "      <td>2.0</td>\n",
       "      <td>7.0</td>\n",
       "      <td>2612</td>\n",
       "      <td>3</td>\n",
       "      <td>4.0</td>\n",
       "      <td>3</td>\n",
       "      <td>3</td>\n",
       "      <td>3</td>\n",
       "      <td>[5, 15)</td>\n",
       "    </tr>\n",
       "    <tr>\n",
       "      <th>80</th>\n",
       "      <td>1</td>\n",
       "      <td>35</td>\n",
       "      <td>2</td>\n",
       "      <td>2.0</td>\n",
       "      <td>16.0</td>\n",
       "      <td>2808</td>\n",
       "      <td>3</td>\n",
       "      <td>4.0</td>\n",
       "      <td>3</td>\n",
       "      <td>3</td>\n",
       "      <td>3</td>\n",
       "      <td>[15, 25)</td>\n",
       "    </tr>\n",
       "    <tr>\n",
       "      <th>81</th>\n",
       "      <td>2</td>\n",
       "      <td>35</td>\n",
       "      <td>2</td>\n",
       "      <td>3.0</td>\n",
       "      <td>15.0</td>\n",
       "      <td>2183</td>\n",
       "      <td>3</td>\n",
       "      <td>4.0</td>\n",
       "      <td>4</td>\n",
       "      <td>3</td>\n",
       "      <td>4</td>\n",
       "      <td>[15, 25)</td>\n",
       "    </tr>\n",
       "  </tbody>\n",
       "</table>\n",
       "<p>82 rows × 12 columns</p>\n",
       "</div>"
      ],
      "text/plain": [
       "    gender  age  family  education  years_of_service  salary  sat_management  \\\n",
       "0        1   38       1        1.0              22.0    3587               3   \n",
       "1        1   29       2        2.0              10.0    2963               1   \n",
       "2        1   30       1        1.0               7.0    1989               3   \n",
       "3        1   36       2        1.0              14.0    2144               3   \n",
       "4        1   24       1        2.0               4.0    2183               2   \n",
       "..     ...  ...     ...        ...               ...     ...             ...   \n",
       "77       1   22       1        3.0               0.0    1598               4   \n",
       "78       1   33       1        1.0               2.0    1638               1   \n",
       "79       1   27       1        2.0               7.0    2612               3   \n",
       "80       1   35       2        2.0              16.0    2808               3   \n",
       "81       2   35       2        3.0              15.0    2183               3   \n",
       "\n",
       "    sat_colleques  sat_workingEnvironment  sat_salary  sat_tasks  \\\n",
       "0             3.0                       3           3          3   \n",
       "1             5.0                       2           1          3   \n",
       "2             4.0                       1           1          3   \n",
       "3             3.0                       3           3          3   \n",
       "4             3.0                       2           1          2   \n",
       "..            ...                     ...         ...        ...   \n",
       "77            4.0                       4           3          4   \n",
       "78            3.0                       2           1          2   \n",
       "79            4.0                       3           3          3   \n",
       "80            4.0                       3           3          3   \n",
       "81            4.0                       4           3          4   \n",
       "\n",
       "   palvelusvuosiluokka  \n",
       "0             [15, 25)  \n",
       "1              [5, 15)  \n",
       "2              [5, 15)  \n",
       "3              [5, 15)  \n",
       "4               [0, 5)  \n",
       "..                 ...  \n",
       "77              [0, 5)  \n",
       "78              [0, 5)  \n",
       "79             [5, 15)  \n",
       "80            [15, 25)  \n",
       "81            [15, 25)  \n",
       "\n",
       "[82 rows x 12 columns]"
      ]
     },
     "execution_count": 193,
     "metadata": {},
     "output_type": "execute_result"
    }
   ],
   "source": [
    "df"
   ]
  },
  {
   "cell_type": "code",
   "execution_count": 194,
   "metadata": {},
   "outputs": [],
   "source": [
    "df_palvelusvuodet = pd.crosstab(df['palvelusvuosiluokka'], 'Yht')\n",
    "\n",
    "df_palvelusvuodet.columns.name = ''\n",
    "\n",
    "\n",
    "\n"
   ]
  },
  {
   "cell_type": "code",
   "execution_count": 195,
   "metadata": {},
   "outputs": [
    {
     "data": {
      "text/html": [
       "<div>\n",
       "<style scoped>\n",
       "    .dataframe tbody tr th:only-of-type {\n",
       "        vertical-align: middle;\n",
       "    }\n",
       "\n",
       "    .dataframe tbody tr th {\n",
       "        vertical-align: top;\n",
       "    }\n",
       "\n",
       "    .dataframe thead th {\n",
       "        text-align: right;\n",
       "    }\n",
       "</style>\n",
       "<table border=\"1\" class=\"dataframe\">\n",
       "  <thead>\n",
       "    <tr style=\"text-align: right;\">\n",
       "      <th></th>\n",
       "      <th>Yht</th>\n",
       "    </tr>\n",
       "    <tr>\n",
       "      <th>palvelusvuosiluokka</th>\n",
       "      <th></th>\n",
       "    </tr>\n",
       "  </thead>\n",
       "  <tbody>\n",
       "    <tr>\n",
       "      <th>[0, 5)</th>\n",
       "      <td>21</td>\n",
       "    </tr>\n",
       "    <tr>\n",
       "      <th>[5, 15)</th>\n",
       "      <td>25</td>\n",
       "    </tr>\n",
       "    <tr>\n",
       "      <th>[15, 25)</th>\n",
       "      <td>32</td>\n",
       "    </tr>\n",
       "    <tr>\n",
       "      <th>[25, 37)</th>\n",
       "      <td>4</td>\n",
       "    </tr>\n",
       "  </tbody>\n",
       "</table>\n",
       "</div>"
      ],
      "text/plain": [
       "                     Yht\n",
       "palvelusvuosiluokka     \n",
       "[0, 5)                21\n",
       "[5, 15)               25\n",
       "[15, 25)              32\n",
       "[25, 37)               4"
      ]
     },
     "execution_count": 195,
     "metadata": {},
     "output_type": "execute_result"
    }
   ],
   "source": [
    "df_palvelusvuodet"
   ]
  },
  {
   "cell_type": "code",
   "execution_count": 196,
   "metadata": {},
   "outputs": [
    {
     "data": {
      "text/plain": [
       "Text(0.5, 0, 'vastaajia, N=80')"
      ]
     },
     "execution_count": 196,
     "metadata": {},
     "output_type": "execute_result"
    },
    {
     "data": {
      "image/png": "[encoded data removed]",
      "text/plain": [
       "<Figure size 640x480 with 1 Axes>"
      ]
     },
     "metadata": {},
     "output_type": "display_data"
    }
   ],
   "source": [
    "df_palvelusvuodet.plot.barh(legend = False)\n",
    "\n",
    "plt.title('Työntekijöiden työskentelyvuosijakauma')\n",
    "plt.xlabel('vastaajia, N=80')"
   ]
  },
  {
   "cell_type": "code",
   "execution_count": 197,
   "metadata": {},
   "outputs": [],
   "source": [
    "# Prosenteiksi\n",
    "n = df_palvelusvuodet['Yht'].sum()\n",
    "df_palvelusvuodet['%'] = df_palvelusvuodet / n * 100"
   ]
  },
  {
   "cell_type": "code",
   "execution_count": 198,
   "metadata": {},
   "outputs": [
    {
     "data": {
      "text/html": [
       "<div>\n",
       "<style scoped>\n",
       "    .dataframe tbody tr th:only-of-type {\n",
       "        vertical-align: middle;\n",
       "    }\n",
       "\n",
       "    .dataframe tbody tr th {\n",
       "        vertical-align: top;\n",
       "    }\n",
       "\n",
       "    .dataframe thead th {\n",
       "        text-align: right;\n",
       "    }\n",
       "</style>\n",
       "<table border=\"1\" class=\"dataframe\">\n",
       "  <thead>\n",
       "    <tr style=\"text-align: right;\">\n",
       "      <th></th>\n",
       "      <th>Yht</th>\n",
       "      <th>%</th>\n",
       "    </tr>\n",
       "    <tr>\n",
       "      <th>palvelusvuosiluokka</th>\n",
       "      <th></th>\n",
       "      <th></th>\n",
       "    </tr>\n",
       "  </thead>\n",
       "  <tbody>\n",
       "    <tr>\n",
       "      <th>[0, 5)</th>\n",
       "      <td>21</td>\n",
       "      <td>25.609756</td>\n",
       "    </tr>\n",
       "    <tr>\n",
       "      <th>[5, 15)</th>\n",
       "      <td>25</td>\n",
       "      <td>30.487805</td>\n",
       "    </tr>\n",
       "    <tr>\n",
       "      <th>[15, 25)</th>\n",
       "      <td>32</td>\n",
       "      <td>39.024390</td>\n",
       "    </tr>\n",
       "    <tr>\n",
       "      <th>[25, 37)</th>\n",
       "      <td>4</td>\n",
       "      <td>4.878049</td>\n",
       "    </tr>\n",
       "  </tbody>\n",
       "</table>\n",
       "</div>"
      ],
      "text/plain": [
       "                     Yht          %\n",
       "palvelusvuosiluokka                \n",
       "[0, 5)                21  25.609756\n",
       "[5, 15)               25  30.487805\n",
       "[15, 25)              32  39.024390\n",
       "[25, 37)               4   4.878049"
      ]
     },
     "execution_count": 198,
     "metadata": {},
     "output_type": "execute_result"
    }
   ],
   "source": [
    "df_palvelusvuodet"
   ]
  },
  {
   "cell_type": "code",
   "execution_count": 199,
   "metadata": {},
   "outputs": [
    {
     "data": {
      "text/plain": [
       "pandas._libs.interval.Interval"
      ]
     },
     "execution_count": 199,
     "metadata": {},
     "output_type": "execute_result"
    }
   ],
   "source": [
    "type(df_palvelusvuodet.index.values[0])\n"
   ]
  },
  {
   "cell_type": "code",
   "execution_count": 200,
   "metadata": {},
   "outputs": [],
   "source": [
    "df_palvelusvuodet.index = df_palvelusvuodet.index.astype(str)\n",
    "df_palvelusvuodet.loc['Yhteensä'] = df_palvelusvuodet.sum()\n"
   ]
  },
  {
   "cell_type": "code",
   "execution_count": 201,
   "metadata": {},
   "outputs": [
    {
     "data": {
      "text/html": [
       "<div>\n",
       "<style scoped>\n",
       "    .dataframe tbody tr th:only-of-type {\n",
       "        vertical-align: middle;\n",
       "    }\n",
       "\n",
       "    .dataframe tbody tr th {\n",
       "        vertical-align: top;\n",
       "    }\n",
       "\n",
       "    .dataframe thead th {\n",
       "        text-align: right;\n",
       "    }\n",
       "</style>\n",
       "<table border=\"1\" class=\"dataframe\">\n",
       "  <thead>\n",
       "    <tr style=\"text-align: right;\">\n",
       "      <th></th>\n",
       "      <th>Yht</th>\n",
       "      <th>%</th>\n",
       "    </tr>\n",
       "    <tr>\n",
       "      <th>palvelusvuosiluokka</th>\n",
       "      <th></th>\n",
       "      <th></th>\n",
       "    </tr>\n",
       "  </thead>\n",
       "  <tbody>\n",
       "    <tr>\n",
       "      <th>[0, 5)</th>\n",
       "      <td>21.0</td>\n",
       "      <td>25.609756</td>\n",
       "    </tr>\n",
       "    <tr>\n",
       "      <th>[5, 15)</th>\n",
       "      <td>25.0</td>\n",
       "      <td>30.487805</td>\n",
       "    </tr>\n",
       "    <tr>\n",
       "      <th>[15, 25)</th>\n",
       "      <td>32.0</td>\n",
       "      <td>39.024390</td>\n",
       "    </tr>\n",
       "    <tr>\n",
       "      <th>[25, 37)</th>\n",
       "      <td>4.0</td>\n",
       "      <td>4.878049</td>\n",
       "    </tr>\n",
       "    <tr>\n",
       "      <th>Yhteensä</th>\n",
       "      <td>82.0</td>\n",
       "      <td>100.000000</td>\n",
       "    </tr>\n",
       "  </tbody>\n",
       "</table>\n",
       "</div>"
      ],
      "text/plain": [
       "                      Yht           %\n",
       "palvelusvuosiluokka                  \n",
       "[0, 5)               21.0   25.609756\n",
       "[5, 15)              25.0   30.487805\n",
       "[15, 25)             32.0   39.024390\n",
       "[25, 37)              4.0    4.878049\n",
       "Yhteensä             82.0  100.000000"
      ]
     },
     "execution_count": 201,
     "metadata": {},
     "output_type": "execute_result"
    }
   ],
   "source": [
    "df_palvelusvuodet"
   ]
  },
  {
   "cell_type": "code",
   "execution_count": 202,
   "metadata": {},
   "outputs": [
    {
     "data": {
      "text/plain": [
       "str"
      ]
     },
     "execution_count": 202,
     "metadata": {},
     "output_type": "execute_result"
    }
   ],
   "source": [
    "type(df_palvelusvuodet.index.values[0])"
   ]
  },
  {
   "cell_type": "code",
   "execution_count": 203,
   "metadata": {},
   "outputs": [
    {
     "data": {
      "text/html": [
       "<style type=\"text/css\">\n",
       "</style>\n",
       "<table id=\"T_5cda5\">\n",
       "  <thead>\n",
       "    <tr>\n",
       "      <th class=\"index_name level0\" ></th>\n",
       "      <th id=\"T_5cda5_level0_col0\" class=\"col_heading level0 col0\" >Yht</th>\n",
       "      <th id=\"T_5cda5_level0_col1\" class=\"col_heading level0 col1\" >%</th>\n",
       "    </tr>\n",
       "    <tr>\n",
       "      <th class=\"index_name level0\" >palvelusvuosiluokka</th>\n",
       "      <th class=\"blank col0\" >&nbsp;</th>\n",
       "      <th class=\"blank col1\" >&nbsp;</th>\n",
       "    </tr>\n",
       "  </thead>\n",
       "  <tbody>\n",
       "    <tr>\n",
       "      <th id=\"T_5cda5_level0_row0\" class=\"row_heading level0 row0\" >[0, 5)</th>\n",
       "      <td id=\"T_5cda5_row0_col0\" class=\"data row0 col0\" >21</td>\n",
       "      <td id=\"T_5cda5_row0_col1\" class=\"data row0 col1\" >25.6 %</td>\n",
       "    </tr>\n",
       "    <tr>\n",
       "      <th id=\"T_5cda5_level0_row1\" class=\"row_heading level0 row1\" >[5, 15)</th>\n",
       "      <td id=\"T_5cda5_row1_col0\" class=\"data row1 col0\" >25</td>\n",
       "      <td id=\"T_5cda5_row1_col1\" class=\"data row1 col1\" >30.5 %</td>\n",
       "    </tr>\n",
       "    <tr>\n",
       "      <th id=\"T_5cda5_level0_row2\" class=\"row_heading level0 row2\" >[15, 25)</th>\n",
       "      <td id=\"T_5cda5_row2_col0\" class=\"data row2 col0\" >32</td>\n",
       "      <td id=\"T_5cda5_row2_col1\" class=\"data row2 col1\" >39.0 %</td>\n",
       "    </tr>\n",
       "    <tr>\n",
       "      <th id=\"T_5cda5_level0_row3\" class=\"row_heading level0 row3\" >[25, 37)</th>\n",
       "      <td id=\"T_5cda5_row3_col0\" class=\"data row3 col0\" >4</td>\n",
       "      <td id=\"T_5cda5_row3_col1\" class=\"data row3 col1\" >4.9 %</td>\n",
       "    </tr>\n",
       "    <tr>\n",
       "      <th id=\"T_5cda5_level0_row4\" class=\"row_heading level0 row4\" >Yhteensä</th>\n",
       "      <td id=\"T_5cda5_row4_col0\" class=\"data row4 col0\" >82</td>\n",
       "      <td id=\"T_5cda5_row4_col1\" class=\"data row4 col1\" >100.0 %</td>\n",
       "    </tr>\n",
       "  </tbody>\n",
       "</table>\n"
      ],
      "text/plain": [
       "<pandas.io.formats.style.Styler at 0x2aef03220f0>"
      ]
     },
     "execution_count": 203,
     "metadata": {},
     "output_type": "execute_result"
    }
   ],
   "source": [
    "# SIIVOTTU TAULUKKO ESITYKSEEN!\n",
    "\n",
    "df_palvelusvuodet.style.format({'Yht': '{:.0f}', '%': '{:.1f} %'})"
   ]
  },
  {
   "cell_type": "markdown",
   "metadata": {},
   "source": [
    "##### Palvelusvuodet jaoteltuna piirakkamuodossa"
   ]
  },
  {
   "cell_type": "code",
   "execution_count": 204,
   "metadata": {},
   "outputs": [
    {
     "data": {
      "image/png": "[encoded data removed]",
      "text/plain": [
       "<Figure size 800x800 with 1 Axes>"
      ]
     },
     "metadata": {},
     "output_type": "display_data"
    }
   ],
   "source": [
    "data = {\n",
    "    'palvelusvuosiluokka': ['alle 5 vuotta', '5-14 vuotta', '15-25 vuotta', 'yli 25 vuotta'],\n",
    "    'Yht': [21, 25, 32, 4],\n",
    "    '%': [25.6, 30.5, 39.0, 4.9]\n",
    "}\n",
    "\n",
    "df_palveluspiirakka = pd.DataFrame(data)\n",
    "total = df_palveluspiirakka['Yht'].sum()\n",
    "colors = ['#FFE4E1','#5F9EA0', '#8FBC87', 'y',]\n",
    "\n",
    "plt.figure(figsize=(8, 8))\n",
    "plt.pie(df_palveluspiirakka['Yht'], labels=df_palveluspiirakka['palvelusvuosiluokka'], autopct='%1.1f%%', startangle=90, colors=colors)\n",
    "plt.title(f'Työntekijät luokiteltuna palvelusvuosien perusteella (Yht: {total})')\n",
    "plt.show()"
   ]
  },
  {
   "cell_type": "markdown",
   "metadata": {},
   "source": [
    "#### Palvelusvuosien vertailu sat-muuttujiin"
   ]
  },
  {
   "cell_type": "markdown",
   "metadata": {},
   "source": []
  },
  {
   "cell_type": "markdown",
   "metadata": {},
   "source": [
    "#### Vuodet + johto"
   ]
  },
  {
   "cell_type": "code",
   "execution_count": 205,
   "metadata": {},
   "outputs": [
    {
     "data": {
      "text/html": [
       "<div>\n",
       "<style scoped>\n",
       "    .dataframe tbody tr th:only-of-type {\n",
       "        vertical-align: middle;\n",
       "    }\n",
       "\n",
       "    .dataframe tbody tr th {\n",
       "        vertical-align: top;\n",
       "    }\n",
       "\n",
       "    .dataframe thead th {\n",
       "        text-align: right;\n",
       "    }\n",
       "</style>\n",
       "<table border=\"1\" class=\"dataframe\">\n",
       "  <thead>\n",
       "    <tr style=\"text-align: right;\">\n",
       "      <th>Tyytyväisyys johtoon</th>\n",
       "      <th>alle 5 vuotta</th>\n",
       "      <th>5-15 vuotta</th>\n",
       "      <th>15-25 vuotta</th>\n",
       "      <th>yli 25 vuotta</th>\n",
       "      <th>Yhteensä</th>\n",
       "    </tr>\n",
       "  </thead>\n",
       "  <tbody>\n",
       "    <tr>\n",
       "      <th>tyytymätön</th>\n",
       "      <td>4</td>\n",
       "      <td>2</td>\n",
       "      <td>1</td>\n",
       "      <td>0</td>\n",
       "      <td>7</td>\n",
       "    </tr>\n",
       "    <tr>\n",
       "      <th>ei hyvä</th>\n",
       "      <td>6</td>\n",
       "      <td>3</td>\n",
       "      <td>6</td>\n",
       "      <td>1</td>\n",
       "      <td>16</td>\n",
       "    </tr>\n",
       "    <tr>\n",
       "      <th>en osaa sanoa / ok</th>\n",
       "      <td>3</td>\n",
       "      <td>11</td>\n",
       "      <td>15</td>\n",
       "      <td>1</td>\n",
       "      <td>30</td>\n",
       "    </tr>\n",
       "    <tr>\n",
       "      <th>ihan jees</th>\n",
       "      <td>5</td>\n",
       "      <td>9</td>\n",
       "      <td>7</td>\n",
       "      <td>2</td>\n",
       "      <td>23</td>\n",
       "    </tr>\n",
       "    <tr>\n",
       "      <th>tosi hyvä</th>\n",
       "      <td>3</td>\n",
       "      <td>0</td>\n",
       "      <td>3</td>\n",
       "      <td>0</td>\n",
       "      <td>6</td>\n",
       "    </tr>\n",
       "    <tr>\n",
       "      <th>Vastaajien määrä yht.</th>\n",
       "      <td>21</td>\n",
       "      <td>25</td>\n",
       "      <td>32</td>\n",
       "      <td>4</td>\n",
       "      <td>82</td>\n",
       "    </tr>\n",
       "  </tbody>\n",
       "</table>\n",
       "</div>"
      ],
      "text/plain": [
       "Tyytyväisyys johtoon   alle 5 vuotta  5-15 vuotta  15-25 vuotta  \\\n",
       "tyytymätön                         4            2             1   \n",
       "ei hyvä                            6            3             6   \n",
       "en osaa sanoa / ok                 3           11            15   \n",
       "ihan jees                          5            9             7   \n",
       "tosi hyvä                          3            0             3   \n",
       "Vastaajien määrä yht.             21           25            32   \n",
       "\n",
       "Tyytyväisyys johtoon   yli 25 vuotta  Yhteensä  \n",
       "tyytymätön                         0         7  \n",
       "ei hyvä                            1        16  \n",
       "en osaa sanoa / ok                 1        30  \n",
       "ihan jees                          2        23  \n",
       "tosi hyvä                          0         6  \n",
       "Vastaajien määrä yht.              4        82  "
      ]
     },
     "execution_count": 205,
     "metadata": {},
     "output_type": "execute_result"
    }
   ],
   "source": [
    "# TYYTYVÄISYYS JOHTOON / sat_management\n",
    "# ovatko talossa pidempään työskennelleet tyytyväisempiä johtoon?\n",
    "\n",
    "\n",
    "# subset\n",
    "\n",
    "df_vuodet_johto = pd.crosstab(df['sat_management'], df['palvelusvuosiluokka'])\n",
    "df_vuodet_johto.index= ['tyytymätön', 'ei hyvä', 'en osaa sanoa / ok', 'ihan jees', 'tosi hyvä' ]\n",
    "df_vuodet_johto.columns = ['alle 5 vuotta', '5-15 vuotta', '15-25 vuotta', 'yli 25 vuotta']\n",
    "df_vuodet_johto.columns.name='Tyytyväisyys johtoon'\n",
    "df_vuodet_johto.loc['Vastaajien määrä yht.'] = df_vuodet_johto.sum()\n",
    "df_vuodet_johto_yht_vastaukset = df_vuodet_johto.assign(Yhteensä=df_vuodet_johto.sum(axis=1))\n",
    "\n",
    "df_vuodet_johto_yht_vastaukset\n",
    "#df_vuodet_johto"
   ]
  },
  {
   "cell_type": "code",
   "execution_count": 206,
   "metadata": {},
   "outputs": [
    {
     "data": {
      "text/plain": [
       "Chi2ContingencyResult(statistic=np.float64(15.666921879621412), pvalue=np.float64(0.4045268344681091), dof=15, expected_freq=array([[ 1.79268293,  2.13414634,  2.73170732,  0.34146341],\n",
       "       [ 4.09756098,  4.87804878,  6.24390244,  0.7804878 ],\n",
       "       [ 7.68292683,  9.14634146, 11.70731707,  1.46341463],\n",
       "       [ 5.8902439 ,  7.01219512,  8.97560976,  1.12195122],\n",
       "       [ 1.53658537,  1.82926829,  2.34146341,  0.29268293],\n",
       "       [21.        , 25.        , 32.        ,  4.        ]]))"
      ]
     },
     "execution_count": 206,
     "metadata": {},
     "output_type": "execute_result"
    }
   ],
   "source": [
    "chi2_contingency(df_vuodet_johto)\n",
    "# pvalue=np.float64(0.4045268344681091)"
   ]
  },
  {
   "cell_type": "markdown",
   "metadata": {},
   "source": [
    "#### Vuodet + kollegat"
   ]
  },
  {
   "cell_type": "code",
   "execution_count": 207,
   "metadata": {},
   "outputs": [
    {
     "data": {
      "text/html": [
       "<div>\n",
       "<style scoped>\n",
       "    .dataframe tbody tr th:only-of-type {\n",
       "        vertical-align: middle;\n",
       "    }\n",
       "\n",
       "    .dataframe tbody tr th {\n",
       "        vertical-align: top;\n",
       "    }\n",
       "\n",
       "    .dataframe thead th {\n",
       "        text-align: right;\n",
       "    }\n",
       "</style>\n",
       "<table border=\"1\" class=\"dataframe\">\n",
       "  <thead>\n",
       "    <tr style=\"text-align: right;\">\n",
       "      <th>Tyytyväisyys kollegoihin</th>\n",
       "      <th>alle 5 vuotta</th>\n",
       "      <th>5-15 vuotta</th>\n",
       "      <th>15-25 vuotta</th>\n",
       "      <th>yli 25 vuotta</th>\n",
       "      <th>Yhteensä</th>\n",
       "    </tr>\n",
       "  </thead>\n",
       "  <tbody>\n",
       "    <tr>\n",
       "      <th>ei hyvä</th>\n",
       "      <td>1</td>\n",
       "      <td>0</td>\n",
       "      <td>2</td>\n",
       "      <td>0</td>\n",
       "      <td>3</td>\n",
       "    </tr>\n",
       "    <tr>\n",
       "      <th>en osaa sanoa / ok</th>\n",
       "      <td>4</td>\n",
       "      <td>6</td>\n",
       "      <td>5</td>\n",
       "      <td>1</td>\n",
       "      <td>16</td>\n",
       "    </tr>\n",
       "    <tr>\n",
       "      <th>ihan jees</th>\n",
       "      <td>8</td>\n",
       "      <td>15</td>\n",
       "      <td>11</td>\n",
       "      <td>2</td>\n",
       "      <td>36</td>\n",
       "    </tr>\n",
       "    <tr>\n",
       "      <th>tosi hyvä</th>\n",
       "      <td>8</td>\n",
       "      <td>4</td>\n",
       "      <td>14</td>\n",
       "      <td>1</td>\n",
       "      <td>27</td>\n",
       "    </tr>\n",
       "    <tr>\n",
       "      <th>Vastaajien määrä yht.</th>\n",
       "      <td>21</td>\n",
       "      <td>25</td>\n",
       "      <td>32</td>\n",
       "      <td>4</td>\n",
       "      <td>82</td>\n",
       "    </tr>\n",
       "  </tbody>\n",
       "</table>\n",
       "</div>"
      ],
      "text/plain": [
       "Tyytyväisyys kollegoihin  alle 5 vuotta  5-15 vuotta  15-25 vuotta  \\\n",
       "ei hyvä                               1            0             2   \n",
       "en osaa sanoa / ok                    4            6             5   \n",
       "ihan jees                             8           15            11   \n",
       "tosi hyvä                             8            4            14   \n",
       "Vastaajien määrä yht.                21           25            32   \n",
       "\n",
       "Tyytyväisyys kollegoihin  yli 25 vuotta  Yhteensä  \n",
       "ei hyvä                               0         3  \n",
       "en osaa sanoa / ok                    1        16  \n",
       "ihan jees                             2        36  \n",
       "tosi hyvä                             1        27  \n",
       "Vastaajien määrä yht.                 4        82  "
      ]
     },
     "execution_count": 207,
     "metadata": {},
     "output_type": "execute_result"
    }
   ],
   "source": [
    "# vuodet + KOLLEGAT\n",
    "\n",
    "df_vuodet_kollegat = pd.crosstab(df['sat_colleques'], df['palvelusvuosiluokka'])\n",
    "df_vuodet_kollegat.index = ['ei hyvä', 'en osaa sanoa / ok', 'ihan jees', 'tosi hyvä' ]\n",
    "df_vuodet_kollegat.columns = ['alle 5 vuotta', '5-15 vuotta', '15-25 vuotta', 'yli 25 vuotta']\n",
    "\n",
    "df_vuodet_kollegat.columns.name='Tyytyväisyys kollegoihin'\n",
    "df_vuodet_kollegat.loc['Vastaajien määrä yht.'] = df_vuodet_kollegat.sum()\n",
    "df_vuodet_kollegat_yht_vastaukset = df_vuodet_kollegat.assign(Yhteensä=df_vuodet_kollegat.sum(axis=1))\n",
    "\n",
    "\n",
    "df_vuodet_kollegat_yht_vastaukset\n",
    "\n",
    "# Näyttäisi siltä, että"
   ]
  },
  {
   "cell_type": "code",
   "execution_count": 208,
   "metadata": {},
   "outputs": [
    {
     "data": {
      "text/plain": [
       "Chi2ContingencyResult(statistic=np.float64(8.18114280202822), pvalue=np.float64(0.7708192713142307), dof=12, expected_freq=array([[ 0.76829268,  0.91463415,  1.17073171,  0.14634146],\n",
       "       [ 4.09756098,  4.87804878,  6.24390244,  0.7804878 ],\n",
       "       [ 9.2195122 , 10.97560976, 14.04878049,  1.75609756],\n",
       "       [ 6.91463415,  8.23170732, 10.53658537,  1.31707317],\n",
       "       [21.        , 25.        , 32.        ,  4.        ]]))"
      ]
     },
     "execution_count": 208,
     "metadata": {},
     "output_type": "execute_result"
    }
   ],
   "source": [
    "chi2_contingency(df_vuodet_kollegat)\n",
    "#pvalue=np.float64(0.5159996397219824)"
   ]
  },
  {
   "cell_type": "code",
   "execution_count": 209,
   "metadata": {},
   "outputs": [
    {
     "data": {
      "text/html": [
       "<div>\n",
       "<style scoped>\n",
       "    .dataframe tbody tr th:only-of-type {\n",
       "        vertical-align: middle;\n",
       "    }\n",
       "\n",
       "    .dataframe tbody tr th {\n",
       "        vertical-align: top;\n",
       "    }\n",
       "\n",
       "    .dataframe thead th {\n",
       "        text-align: right;\n",
       "    }\n",
       "</style>\n",
       "<table border=\"1\" class=\"dataframe\">\n",
       "  <thead>\n",
       "    <tr style=\"text-align: right;\">\n",
       "      <th>Palvelusvuosiluokka</th>\n",
       "      <th>alle 5 vuotta</th>\n",
       "      <th>5-15 vuotta</th>\n",
       "      <th>15-25 vuotta</th>\n",
       "      <th>yli 25 vuotta</th>\n",
       "      <th>Yhteensä</th>\n",
       "    </tr>\n",
       "  </thead>\n",
       "  <tbody>\n",
       "    <tr>\n",
       "      <th>tyytymätön</th>\n",
       "      <td>0</td>\n",
       "      <td>0</td>\n",
       "      <td>0</td>\n",
       "      <td>0</td>\n",
       "      <td>0</td>\n",
       "    </tr>\n",
       "    <tr>\n",
       "      <th>ei hyvä</th>\n",
       "      <td>1</td>\n",
       "      <td>0</td>\n",
       "      <td>2</td>\n",
       "      <td>0</td>\n",
       "      <td>3</td>\n",
       "    </tr>\n",
       "    <tr>\n",
       "      <th>en osaa sanoa / ok</th>\n",
       "      <td>4</td>\n",
       "      <td>6</td>\n",
       "      <td>5</td>\n",
       "      <td>1</td>\n",
       "      <td>16</td>\n",
       "    </tr>\n",
       "    <tr>\n",
       "      <th>ihan jees</th>\n",
       "      <td>8</td>\n",
       "      <td>15</td>\n",
       "      <td>11</td>\n",
       "      <td>2</td>\n",
       "      <td>36</td>\n",
       "    </tr>\n",
       "    <tr>\n",
       "      <th>tosi hyvä</th>\n",
       "      <td>8</td>\n",
       "      <td>4</td>\n",
       "      <td>14</td>\n",
       "      <td>1</td>\n",
       "      <td>27</td>\n",
       "    </tr>\n",
       "    <tr>\n",
       "      <th>Vastaajien määrä yht.</th>\n",
       "      <td>21</td>\n",
       "      <td>25</td>\n",
       "      <td>32</td>\n",
       "      <td>4</td>\n",
       "      <td>82</td>\n",
       "    </tr>\n",
       "  </tbody>\n",
       "</table>\n",
       "</div>"
      ],
      "text/plain": [
       "Palvelusvuosiluokka    alle 5 vuotta  5-15 vuotta  15-25 vuotta  \\\n",
       "tyytymätön                         0            0             0   \n",
       "ei hyvä                            1            0             2   \n",
       "en osaa sanoa / ok                 4            6             5   \n",
       "ihan jees                          8           15            11   \n",
       "tosi hyvä                          8            4            14   \n",
       "Vastaajien määrä yht.             21           25            32   \n",
       "\n",
       "Palvelusvuosiluokka    yli 25 vuotta  Yhteensä  \n",
       "tyytymätön                         0         0  \n",
       "ei hyvä                            0         3  \n",
       "en osaa sanoa / ok                 1        16  \n",
       "ihan jees                          2        36  \n",
       "tosi hyvä                          1        27  \n",
       "Vastaajien määrä yht.              4        82  "
      ]
     },
     "execution_count": 209,
     "metadata": {},
     "output_type": "execute_result"
    }
   ],
   "source": [
    "## TAULUKKOVERSIO LUVUILLA\n",
    "\n",
    "sat_vastausvaihtoehdot = [1, 2, 3, 4, 5]\n",
    "df['sat_colleques'] = pd.Categorical(df['sat_colleques'], categories=sat_vastausvaihtoehdot)\n",
    "\n",
    "# Create the crosstab, which will now include all categories (even if some have zero values)\n",
    "df_vuodet_kollegat = pd.crosstab(df['sat_colleques'], df['palvelusvuosiluokka']).reindex(sat_vastausvaihtoehdot, fill_value=0)\n",
    "\n",
    "# Relabel the index with descriptive labels\n",
    "df_vuodet_kollegat.index = ['tyytymätön', 'ei hyvä', 'en osaa sanoa / ok', 'ihan jees', 'tosi hyvä']\n",
    "\n",
    "# Rename the columns for service years\n",
    "df_vuodet_kollegat.columns = ['alle 5 vuotta', '5-15 vuotta', '15-25 vuotta', 'yli 25 vuotta']\n",
    "\n",
    "# Set the columns' name\n",
    "df_vuodet_kollegat.columns.name = 'Palvelusvuosiluokka'\n",
    "\n",
    "# Add a row with the total count for each column\n",
    "df_vuodet_kollegat.loc['Vastaajien määrä yht.'] = df_vuodet_kollegat.sum()\n",
    "\n",
    "# Add a new column with the total count across rows\n",
    "df_vuodet_kollegat_yht_vastaukset = df_vuodet_kollegat.assign(Yhteensä=df_vuodet_kollegat.sum(axis=1))\n",
    "\n",
    "\n",
    "df_vuodet_kollegat_yht_vastaukset\n",
    "\n",
    "\n",
    "# Näyttäisi siltä, että että työkavereista pidetään, sillä kukaan ei ole vastannut, että olisi täysin tyytymätön työkavereihin. Suurin osa pitää kollegoistaan"
   ]
  },
  {
   "cell_type": "code",
   "execution_count": 210,
   "metadata": {},
   "outputs": [
    {
     "data": {
      "text/html": [
       "<div>\n",
       "<style scoped>\n",
       "    .dataframe tbody tr th:only-of-type {\n",
       "        vertical-align: middle;\n",
       "    }\n",
       "\n",
       "    .dataframe tbody tr th {\n",
       "        vertical-align: top;\n",
       "    }\n",
       "\n",
       "    .dataframe thead th {\n",
       "        text-align: right;\n",
       "    }\n",
       "</style>\n",
       "<table border=\"1\" class=\"dataframe\">\n",
       "  <thead>\n",
       "    <tr style=\"text-align: right;\">\n",
       "      <th>Palvelusvuosiluokka</th>\n",
       "      <th>alle 5 vuotta</th>\n",
       "      <th>5-15 vuotta</th>\n",
       "      <th>15-25 vuotta</th>\n",
       "      <th>yli 25 vuotta</th>\n",
       "      <th>Yhteensä</th>\n",
       "    </tr>\n",
       "  </thead>\n",
       "  <tbody>\n",
       "    <tr>\n",
       "      <th>tyytymätön</th>\n",
       "      <td>0.000000</td>\n",
       "      <td>0.0</td>\n",
       "      <td>0.000</td>\n",
       "      <td>0.0</td>\n",
       "      <td>0.000000</td>\n",
       "    </tr>\n",
       "    <tr>\n",
       "      <th>ei hyvä</th>\n",
       "      <td>4.761905</td>\n",
       "      <td>0.0</td>\n",
       "      <td>6.250</td>\n",
       "      <td>0.0</td>\n",
       "      <td>11.011905</td>\n",
       "    </tr>\n",
       "    <tr>\n",
       "      <th>en osaa sanoa / ok</th>\n",
       "      <td>19.047619</td>\n",
       "      <td>24.0</td>\n",
       "      <td>15.625</td>\n",
       "      <td>25.0</td>\n",
       "      <td>83.672619</td>\n",
       "    </tr>\n",
       "    <tr>\n",
       "      <th>ihan jees</th>\n",
       "      <td>38.095238</td>\n",
       "      <td>60.0</td>\n",
       "      <td>34.375</td>\n",
       "      <td>50.0</td>\n",
       "      <td>182.470238</td>\n",
       "    </tr>\n",
       "    <tr>\n",
       "      <th>tosi hyvä</th>\n",
       "      <td>38.095238</td>\n",
       "      <td>16.0</td>\n",
       "      <td>43.750</td>\n",
       "      <td>25.0</td>\n",
       "      <td>122.845238</td>\n",
       "    </tr>\n",
       "    <tr>\n",
       "      <th>Vastaajien määrä yht.</th>\n",
       "      <td>21.000000</td>\n",
       "      <td>25.0</td>\n",
       "      <td>32.000</td>\n",
       "      <td>4.0</td>\n",
       "      <td>82.000000</td>\n",
       "    </tr>\n",
       "  </tbody>\n",
       "</table>\n",
       "</div>"
      ],
      "text/plain": [
       "Palvelusvuosiluokka    alle 5 vuotta  5-15 vuotta  15-25 vuotta  \\\n",
       "tyytymätön                  0.000000          0.0         0.000   \n",
       "ei hyvä                     4.761905          0.0         6.250   \n",
       "en osaa sanoa / ok         19.047619         24.0        15.625   \n",
       "ihan jees                  38.095238         60.0        34.375   \n",
       "tosi hyvä                  38.095238         16.0        43.750   \n",
       "Vastaajien määrä yht.      21.000000         25.0        32.000   \n",
       "\n",
       "Palvelusvuosiluokka    yli 25 vuotta    Yhteensä  \n",
       "tyytymätön                       0.0    0.000000  \n",
       "ei hyvä                          0.0   11.011905  \n",
       "en osaa sanoa / ok              25.0   83.672619  \n",
       "ihan jees                       50.0  182.470238  \n",
       "tosi hyvä                       25.0  122.845238  \n",
       "Vastaajien määrä yht.            4.0   82.000000  "
      ]
     },
     "execution_count": 210,
     "metadata": {},
     "output_type": "execute_result"
    }
   ],
   "source": [
    "# First, calculate the total responses in each column (excluding the 'Vastaajien määrä yht.' row)\n",
    "totals_per_column = df_vuodet_kollegat.loc['Vastaajien määrä yht.']\n",
    "\n",
    "# Then, divide each value by the total for its column, and multiply by 100 for percentages\n",
    "df_vuodet_kollegat_percent = df_vuodet_kollegat.div(totals_per_column, axis=1) * 100\n",
    "\n",
    "# Add back the 'Vastaajien määrä yht.' row (since this row should not be turned into a percentage)\n",
    "df_vuodet_kollegat_percent.loc['Vastaajien määrä yht.'] = totals_per_column\n",
    "\n",
    "# Add a 'Yhteensä' column with the percentage of total responses per satisfaction level\n",
    "df_vuodet_kollegat_percent['Yhteensä'] = df_vuodet_kollegat_percent.sum(axis=1)\n",
    "\n",
    "df_vuodet_kollegat_percent\n"
   ]
  },
  {
   "cell_type": "code",
   "execution_count": 211,
   "metadata": {},
   "outputs": [
    {
     "name": "stderr",
     "output_type": "stream",
     "text": [
      "C:\\Users\\SiniS\\AppData\\Local\\Temp\\ipykernel_19876\\298283037.py:35: FutureWarning: DataFrame.applymap has been deprecated. Use DataFrame.map instead.\n",
      "  df_vuodet_kollegat_percent = df_vuodet_kollegat_percent.applymap(lambda x: f\"{x:.1f}\")\n"
     ]
    },
    {
     "data": {
      "text/html": [
       "<div>\n",
       "<style scoped>\n",
       "    .dataframe tbody tr th:only-of-type {\n",
       "        vertical-align: middle;\n",
       "    }\n",
       "\n",
       "    .dataframe tbody tr th {\n",
       "        vertical-align: top;\n",
       "    }\n",
       "\n",
       "    .dataframe thead th {\n",
       "        text-align: right;\n",
       "    }\n",
       "</style>\n",
       "<table border=\"1\" class=\"dataframe\">\n",
       "  <thead>\n",
       "    <tr style=\"text-align: right;\">\n",
       "      <th>Tyytyväisyys kollegoihin prosentteina</th>\n",
       "      <th>alle 5 vuotta</th>\n",
       "      <th>5-15 vuotta</th>\n",
       "      <th>15-25 vuotta</th>\n",
       "      <th>yli 25 vuotta</th>\n",
       "      <th>Yhteensä</th>\n",
       "    </tr>\n",
       "  </thead>\n",
       "  <tbody>\n",
       "    <tr>\n",
       "      <th>Tyytymätön</th>\n",
       "      <td>0.0</td>\n",
       "      <td>0.0</td>\n",
       "      <td>0.0</td>\n",
       "      <td>0.0</td>\n",
       "      <td>0.0</td>\n",
       "    </tr>\n",
       "    <tr>\n",
       "      <th>Jokseenkin tyytymätön</th>\n",
       "      <td>33.3</td>\n",
       "      <td>0.0</td>\n",
       "      <td>66.7</td>\n",
       "      <td>0.0</td>\n",
       "      <td>100.0</td>\n",
       "    </tr>\n",
       "    <tr>\n",
       "      <th>En osaa sanoa</th>\n",
       "      <td>25.0</td>\n",
       "      <td>37.5</td>\n",
       "      <td>31.2</td>\n",
       "      <td>6.2</td>\n",
       "      <td>100.0</td>\n",
       "    </tr>\n",
       "    <tr>\n",
       "      <th>Jokseenkin tyytyväinen</th>\n",
       "      <td>22.2</td>\n",
       "      <td>41.7</td>\n",
       "      <td>30.6</td>\n",
       "      <td>5.6</td>\n",
       "      <td>100.0</td>\n",
       "    </tr>\n",
       "    <tr>\n",
       "      <th>Tyytyväinen</th>\n",
       "      <td>29.6</td>\n",
       "      <td>14.8</td>\n",
       "      <td>51.9</td>\n",
       "      <td>3.7</td>\n",
       "      <td>100.0</td>\n",
       "    </tr>\n",
       "    <tr>\n",
       "      <th>Vastaajien määrä yht. kpl</th>\n",
       "      <td>21</td>\n",
       "      <td>25</td>\n",
       "      <td>32</td>\n",
       "      <td>4</td>\n",
       "      <td>82</td>\n",
       "    </tr>\n",
       "  </tbody>\n",
       "</table>\n",
       "</div>"
      ],
      "text/plain": [
       "Tyytyväisyys kollegoihin prosentteina  alle 5 vuotta 5-15 vuotta 15-25 vuotta  \\\n",
       "Tyytymätön                                       0.0         0.0          0.0   \n",
       "Jokseenkin tyytymätön                           33.3         0.0         66.7   \n",
       "En osaa sanoa                                   25.0        37.5         31.2   \n",
       "Jokseenkin tyytyväinen                          22.2        41.7         30.6   \n",
       "Tyytyväinen                                     29.6        14.8         51.9   \n",
       "Vastaajien määrä yht. kpl                         21          25           32   \n",
       "\n",
       "Tyytyväisyys kollegoihin prosentteina  yli 25 vuotta Yhteensä  \n",
       "Tyytymätön                                       0.0      0.0  \n",
       "Jokseenkin tyytymätön                            0.0    100.0  \n",
       "En osaa sanoa                                    6.2    100.0  \n",
       "Jokseenkin tyytyväinen                           5.6    100.0  \n",
       "Tyytyväinen                                      3.7    100.0  \n",
       "Vastaajien määrä yht. kpl                          4       82  "
      ]
     },
     "execution_count": 211,
     "metadata": {},
     "output_type": "execute_result"
    }
   ],
   "source": [
    "\n",
    "# TAULUKKOVERSIO PROSENTTILUVUILLA\n",
    "\n",
    "# Define satisfaction categories and ensure 'sat_colleques' is categorical\n",
    "sat_vastausvaihtoehdot = [1, 2, 3, 4, 5]\n",
    "df['sat_colleques'] = pd.Categorical(df['sat_colleques'], categories=sat_vastausvaihtoehdot)\n",
    "\n",
    "# Create the crosstab, including all categories (even if some have zero values)\n",
    "df_vuodet_kollegat = pd.crosstab(df['sat_colleques'], df['palvelusvuosiluokka']).reindex(sat_vastausvaihtoehdot, fill_value=0)\n",
    "\n",
    "# Relabel the index with descriptive labels\n",
    "df_vuodet_kollegat.index = ['Tyytymätön', 'Jokseenkin tyytymätön', 'En osaa sanoa', 'Jokseenkin tyytyväinen', 'Tyytyväinen' ]\n",
    "\n",
    "# Rename the columns for service years\n",
    "df_vuodet_kollegat.columns = ['alle 5 vuotta', '5-15 vuotta', '15-25 vuotta', 'yli 25 vuotta']\n",
    "\n",
    "# Set the columns' name\n",
    "df_vuodet_kollegat.columns.name = 'Tyytyväisyys kollegoihin prosentteina '\n",
    "\n",
    "# Add a 'Yhteensä' column with the total count across rows\n",
    "df_vuodet_kollegat['Yhteensä'] = df_vuodet_kollegat.sum(axis=1)\n",
    "\n",
    "# Safely check if \"Vastaajien määrä yht.\" row exists before dropping it\n",
    "if 'Vastaajien määrä yht.' in df_vuodet_kollegat.index:\n",
    "    df_vuodet_kollegat_cleaned = df_vuodet_kollegat.drop('Vastaajien määrä yht.')\n",
    "else:\n",
    "    df_vuodet_kollegat_cleaned = df_vuodet_kollegat\n",
    "\n",
    "# Calculate the row-wise percentages (including the \"Yhteensä\" column)\n",
    "df_vuodet_kollegat_percent = df_vuodet_kollegat_cleaned.div(df_vuodet_kollegat_cleaned['Yhteensä'], axis=0) * 100\n",
    "\n",
    "# Replace NaN values with 0s\n",
    "df_vuodet_kollegat_percent = df_vuodet_kollegat_percent.fillna(0)\n",
    "\n",
    "# Format the DataFrame to display percentages with one decimal place\n",
    "df_vuodet_kollegat_percent = df_vuodet_kollegat_percent.applymap(lambda x: f\"{x:.1f}\")\n",
    "df_vuodet_kollegat_percent.loc['Vastaajien määrä yht. kpl'] = df_vuodet_kollegat.sum()\n",
    "\n",
    "# Display the final DataFrame with percentages and a \"Yhteensä\" column that sums to 100%\n",
    "df_vuodet_kollegat_percent\n"
   ]
  },
  {
   "cell_type": "markdown",
   "metadata": {},
   "source": [
    "#### Vuodet + työympäristö"
   ]
  },
  {
   "cell_type": "code",
   "execution_count": 212,
   "metadata": {},
   "outputs": [
    {
     "data": {
      "text/html": [
       "<div>\n",
       "<style scoped>\n",
       "    .dataframe tbody tr th:only-of-type {\n",
       "        vertical-align: middle;\n",
       "    }\n",
       "\n",
       "    .dataframe tbody tr th {\n",
       "        vertical-align: top;\n",
       "    }\n",
       "\n",
       "    .dataframe thead th {\n",
       "        text-align: right;\n",
       "    }\n",
       "</style>\n",
       "<table border=\"1\" class=\"dataframe\">\n",
       "  <thead>\n",
       "    <tr style=\"text-align: right;\">\n",
       "      <th>Tyytyväisyys työympäristöön</th>\n",
       "      <th>alle 5 vuotta</th>\n",
       "      <th>5-15 vuotta</th>\n",
       "      <th>15-25 vuotta</th>\n",
       "      <th>yli 25 vuotta</th>\n",
       "    </tr>\n",
       "  </thead>\n",
       "  <tbody>\n",
       "    <tr>\n",
       "      <th>tyytymätön</th>\n",
       "      <td>2</td>\n",
       "      <td>3</td>\n",
       "      <td>4</td>\n",
       "      <td>0</td>\n",
       "    </tr>\n",
       "    <tr>\n",
       "      <th>ei hyvä</th>\n",
       "      <td>5</td>\n",
       "      <td>2</td>\n",
       "      <td>0</td>\n",
       "      <td>2</td>\n",
       "    </tr>\n",
       "    <tr>\n",
       "      <th>en osaa sanoa / ok</th>\n",
       "      <td>7</td>\n",
       "      <td>12</td>\n",
       "      <td>11</td>\n",
       "      <td>0</td>\n",
       "    </tr>\n",
       "    <tr>\n",
       "      <th>ihan jees</th>\n",
       "      <td>5</td>\n",
       "      <td>6</td>\n",
       "      <td>10</td>\n",
       "      <td>2</td>\n",
       "    </tr>\n",
       "    <tr>\n",
       "      <th>tosi hyvä</th>\n",
       "      <td>2</td>\n",
       "      <td>2</td>\n",
       "      <td>7</td>\n",
       "      <td>0</td>\n",
       "    </tr>\n",
       "    <tr>\n",
       "      <th>Vastaajien määrä yht.</th>\n",
       "      <td>21</td>\n",
       "      <td>25</td>\n",
       "      <td>32</td>\n",
       "      <td>4</td>\n",
       "    </tr>\n",
       "  </tbody>\n",
       "</table>\n",
       "</div>"
      ],
      "text/plain": [
       "Tyytyväisyys työympäristöön  alle 5 vuotta  5-15 vuotta  15-25 vuotta  \\\n",
       "tyytymätön                               2            3             4   \n",
       "ei hyvä                                  5            2             0   \n",
       "en osaa sanoa / ok                       7           12            11   \n",
       "ihan jees                                5            6            10   \n",
       "tosi hyvä                                2            2             7   \n",
       "Vastaajien määrä yht.                   21           25            32   \n",
       "\n",
       "Tyytyväisyys työympäristöön  yli 25 vuotta  \n",
       "tyytymätön                               0  \n",
       "ei hyvä                                  2  \n",
       "en osaa sanoa / ok                       0  \n",
       "ihan jees                                2  \n",
       "tosi hyvä                                0  \n",
       "Vastaajien määrä yht.                    4  "
      ]
     },
     "execution_count": 212,
     "metadata": {},
     "output_type": "execute_result"
    }
   ],
   "source": [
    "df_vuodet_ymp = pd.crosstab(df['sat_workingEnvironment'], df['palvelusvuosiluokka'])\n",
    "df_vuodet_ymp.index = ['tyytymätön', 'ei hyvä', 'en osaa sanoa / ok', 'ihan jees', 'tosi hyvä' ]\n",
    "df_vuodet_ymp.columns = ['alle 5 vuotta', '5-15 vuotta', '15-25 vuotta', 'yli 25 vuotta']\n",
    "\n",
    "df_vuodet_ymp.columns.name='Tyytyväisyys työympäristöön'\n",
    "df_vuodet_ymp.loc['Vastaajien määrä yht.'] = df_vuodet_ymp.sum()\n",
    "df_vuodet_ymp_yht_vastaukset = df_vuodet_kollegat.assign(Yhteensä=df_vuodet_ymp.sum(axis=1))\n",
    "\n",
    "df_vuodet_ymp"
   ]
  },
  {
   "cell_type": "markdown",
   "metadata": {},
   "source": [
    "\n"
   ]
  },
  {
   "cell_type": "code",
   "execution_count": 213,
   "metadata": {},
   "outputs": [
    {
     "data": {
      "text/plain": [
       "Chi2ContingencyResult(statistic=np.float64(19.55580409164105), pvalue=np.float64(0.18964261874097568), dof=15, expected_freq=array([[ 2.30487805,  2.74390244,  3.51219512,  0.43902439],\n",
       "       [ 2.30487805,  2.74390244,  3.51219512,  0.43902439],\n",
       "       [ 7.68292683,  9.14634146, 11.70731707,  1.46341463],\n",
       "       [ 5.8902439 ,  7.01219512,  8.97560976,  1.12195122],\n",
       "       [ 2.81707317,  3.35365854,  4.29268293,  0.53658537],\n",
       "       [21.        , 25.        , 32.        ,  4.        ]]))"
      ]
     },
     "execution_count": 213,
     "metadata": {},
     "output_type": "execute_result"
    }
   ],
   "source": [
    "chi2_contingency(df_vuodet_ymp)\n",
    "# pvalue=np.float64(0.18964261874097568)"
   ]
  },
  {
   "cell_type": "code",
   "execution_count": null,
   "metadata": {},
   "outputs": [],
   "source": []
  },
  {
   "cell_type": "markdown",
   "metadata": {},
   "source": [
    "#### Vuodet + palkka"
   ]
  },
  {
   "cell_type": "code",
   "execution_count": 231,
   "metadata": {},
   "outputs": [
    {
     "data": {
      "text/html": [
       "<div>\n",
       "<style scoped>\n",
       "    .dataframe tbody tr th:only-of-type {\n",
       "        vertical-align: middle;\n",
       "    }\n",
       "\n",
       "    .dataframe tbody tr th {\n",
       "        vertical-align: top;\n",
       "    }\n",
       "\n",
       "    .dataframe thead th {\n",
       "        text-align: right;\n",
       "    }\n",
       "</style>\n",
       "<table border=\"1\" class=\"dataframe\">\n",
       "  <thead>\n",
       "    <tr style=\"text-align: right;\">\n",
       "      <th>Tyytyväisyys palkkaan</th>\n",
       "      <th>alle 5 vuotta</th>\n",
       "      <th>5-15 vuotta</th>\n",
       "      <th>15-25 vuotta</th>\n",
       "      <th>yli 25 vuotta</th>\n",
       "    </tr>\n",
       "  </thead>\n",
       "  <tbody>\n",
       "    <tr>\n",
       "      <th>tyytymätön</th>\n",
       "      <td>11</td>\n",
       "      <td>8</td>\n",
       "      <td>13</td>\n",
       "      <td>1</td>\n",
       "    </tr>\n",
       "    <tr>\n",
       "      <th>ei hyvä</th>\n",
       "      <td>4</td>\n",
       "      <td>5</td>\n",
       "      <td>8</td>\n",
       "      <td>2</td>\n",
       "    </tr>\n",
       "    <tr>\n",
       "      <th>en osaa sanoa / ok</th>\n",
       "      <td>3</td>\n",
       "      <td>8</td>\n",
       "      <td>8</td>\n",
       "      <td>0</td>\n",
       "    </tr>\n",
       "    <tr>\n",
       "      <th>ihan jees</th>\n",
       "      <td>3</td>\n",
       "      <td>4</td>\n",
       "      <td>2</td>\n",
       "      <td>1</td>\n",
       "    </tr>\n",
       "    <tr>\n",
       "      <th>tosi hyvä</th>\n",
       "      <td>0</td>\n",
       "      <td>0</td>\n",
       "      <td>1</td>\n",
       "      <td>0</td>\n",
       "    </tr>\n",
       "    <tr>\n",
       "      <th>Vastaajien määrä yht.</th>\n",
       "      <td>21</td>\n",
       "      <td>25</td>\n",
       "      <td>32</td>\n",
       "      <td>4</td>\n",
       "    </tr>\n",
       "  </tbody>\n",
       "</table>\n",
       "</div>"
      ],
      "text/plain": [
       "Tyytyväisyys palkkaan  alle 5 vuotta  5-15 vuotta  15-25 vuotta  yli 25 vuotta\n",
       "tyytymätön                        11            8            13              1\n",
       "ei hyvä                            4            5             8              2\n",
       "en osaa sanoa / ok                 3            8             8              0\n",
       "ihan jees                          3            4             2              1\n",
       "tosi hyvä                          0            0             1              0\n",
       "Vastaajien määrä yht.             21           25            32              4"
      ]
     },
     "execution_count": 231,
     "metadata": {},
     "output_type": "execute_result"
    }
   ],
   "source": [
    "df_vuodet_palkka = pd.crosstab(df['sat_salary'], df['palvelusvuosiluokka'])\n",
    "df_vuodet_palkka.index = ['tyytymätön', 'ei hyvä', 'en osaa sanoa / ok', 'ihan jees', 'tosi hyvä' ]\n",
    "df_vuodet_palkka.columns = ['alle 5 vuotta', '5-15 vuotta', '15-25 vuotta', 'yli 25 vuotta']\n",
    "\n",
    "df_vuodet_palkka.columns.name='Tyytyväisyys palkkaan'\n",
    "df_vuodet_palkka.loc['Vastaajien määrä yht.'] = df_vuodet_palkka.sum()\n",
    "df_vuodet_palkka_yht_vastaukset = df_vuodet_palkka.assign(Yhteensä=df_vuodet_palkka.sum(axis=1))\n",
    "\n",
    "df_vuodet_palkka\n",
    "\n",
    "# no näyttäisi siltä, ettei kukaan ole tyytyväinen palkkaansa - paitsi tuo yksi --> pitäisi katsoa tarkemmin kuka hän on ja millä palkalla\n",
    "# näyttäisi siltä, että XX osa työntekijöistä on tyytymätön palkkaansa - esim. alle 5 vuotta talossa olleista 15 / 21 on tyytymätön tai pitää palkkaansa huonona"
   ]
  },
  {
   "cell_type": "code",
   "execution_count": 215,
   "metadata": {},
   "outputs": [
    {
     "data": {
      "text/plain": [
       "Chi2ContingencyResult(statistic=np.float64(8.903778841042), pvalue=np.float64(0.8824945393530039), dof=15, expected_freq=array([[ 8.45121951, 10.06097561, 12.87804878,  1.6097561 ],\n",
       "       [ 4.86585366,  5.79268293,  7.41463415,  0.92682927],\n",
       "       [ 4.86585366,  5.79268293,  7.41463415,  0.92682927],\n",
       "       [ 2.56097561,  3.04878049,  3.90243902,  0.48780488],\n",
       "       [ 0.25609756,  0.30487805,  0.3902439 ,  0.04878049],\n",
       "       [21.        , 25.        , 32.        ,  4.        ]]))"
      ]
     },
     "execution_count": 215,
     "metadata": {},
     "output_type": "execute_result"
    }
   ],
   "source": [
    "chi2_contingency(df_vuodet_palkka)\n",
    "# pvalue=np.float64(0.8824945393530039)"
   ]
  },
  {
   "cell_type": "code",
   "execution_count": 238,
   "metadata": {},
   "outputs": [
    {
     "name": "stderr",
     "output_type": "stream",
     "text": [
      "C:\\Users\\SiniS\\AppData\\Local\\Temp\\ipykernel_19876\\3148027590.py:11: FutureWarning: DataFrame.applymap has been deprecated. Use DataFrame.map instead.\n",
      "  df_vuodet_palkka_prosentteina= df_vuodet_palkka_prosentteina.applymap(lambda x: f\"{x:.1f}\")\n"
     ]
    },
    {
     "data": {
      "text/html": [
       "<div>\n",
       "<style scoped>\n",
       "    .dataframe tbody tr th:only-of-type {\n",
       "        vertical-align: middle;\n",
       "    }\n",
       "\n",
       "    .dataframe tbody tr th {\n",
       "        vertical-align: top;\n",
       "    }\n",
       "\n",
       "    .dataframe thead th {\n",
       "        text-align: right;\n",
       "    }\n",
       "</style>\n",
       "<table border=\"1\" class=\"dataframe\">\n",
       "  <thead>\n",
       "    <tr style=\"text-align: right;\">\n",
       "      <th>Tyytyväisyys palkkaan prosenttijakauma</th>\n",
       "      <th>alle 5 vuotta</th>\n",
       "      <th>5-15 vuotta</th>\n",
       "      <th>15-25 vuotta</th>\n",
       "      <th>yli 25 vuotta</th>\n",
       "    </tr>\n",
       "  </thead>\n",
       "  <tbody>\n",
       "    <tr>\n",
       "      <th>Tyytymätön</th>\n",
       "      <td>52.4</td>\n",
       "      <td>32.0</td>\n",
       "      <td>40.6</td>\n",
       "      <td>25.0</td>\n",
       "    </tr>\n",
       "    <tr>\n",
       "      <th>Jokseenkin tyytymätön</th>\n",
       "      <td>19.0</td>\n",
       "      <td>20.0</td>\n",
       "      <td>25.0</td>\n",
       "      <td>50.0</td>\n",
       "    </tr>\n",
       "    <tr>\n",
       "      <th>En osaa sanoa</th>\n",
       "      <td>14.3</td>\n",
       "      <td>32.0</td>\n",
       "      <td>25.0</td>\n",
       "      <td>0.0</td>\n",
       "    </tr>\n",
       "    <tr>\n",
       "      <th>Jokseenkin tyytyväinen</th>\n",
       "      <td>14.3</td>\n",
       "      <td>16.0</td>\n",
       "      <td>6.2</td>\n",
       "      <td>25.0</td>\n",
       "    </tr>\n",
       "    <tr>\n",
       "      <th>Tyytyväinen</th>\n",
       "      <td>0.0</td>\n",
       "      <td>0.0</td>\n",
       "      <td>3.1</td>\n",
       "      <td>0.0</td>\n",
       "    </tr>\n",
       "    <tr>\n",
       "      <th>Yhteensä %</th>\n",
       "      <td>100.0</td>\n",
       "      <td>100.0</td>\n",
       "      <td>100.0</td>\n",
       "      <td>100.0</td>\n",
       "    </tr>\n",
       "  </tbody>\n",
       "</table>\n",
       "</div>"
      ],
      "text/plain": [
       "Tyytyväisyys palkkaan prosenttijakauma  alle 5 vuotta 5-15 vuotta  \\\n",
       "Tyytymätön                                       52.4        32.0   \n",
       "Jokseenkin tyytymätön                            19.0        20.0   \n",
       "En osaa sanoa                                    14.3        32.0   \n",
       "Jokseenkin tyytyväinen                           14.3        16.0   \n",
       "Tyytyväinen                                       0.0         0.0   \n",
       "Yhteensä %                                      100.0       100.0   \n",
       "\n",
       "Tyytyväisyys palkkaan prosenttijakauma  15-25 vuotta yli 25 vuotta  \n",
       "Tyytymätön                                      40.6          25.0  \n",
       "Jokseenkin tyytymätön                           25.0          50.0  \n",
       "En osaa sanoa                                   25.0           0.0  \n",
       "Jokseenkin tyytyväinen                           6.2          25.0  \n",
       "Tyytyväinen                                      3.1           0.0  \n",
       "Yhteensä %                                     100.0         100.0  "
      ]
     },
     "execution_count": 238,
     "metadata": {},
     "output_type": "execute_result"
    }
   ],
   "source": [
    "# PALKASTA PROSENTTITAULUKKO ylhäältä alaspäin yksittäisen sarakkeen sisällä\n",
    "\n",
    "df_vuodet_palkka_prosentteina = pd.crosstab(df['sat_salary'], df['palvelusvuosiluokka'],normalize = 'columns')*100\n",
    "df_vuodet_palkka_prosentteina.index = ['Tyytymätön', 'Jokseenkin tyytymätön', 'En osaa sanoa', 'Jokseenkin tyytyväinen', 'Tyytyväinen' ]\n",
    "df_vuodet_palkka_prosentteina.columns = ['alle 5 vuotta', '5-15 vuotta', '15-25 vuotta', 'yli 25 vuotta']\n",
    "df_vuodet_palkka_prosentteina.columns.name='Tyytyväisyys palkkaan prosenttijakauma '\n",
    "\n",
    "\n",
    "df_vuodet_palkka_prosentteina.loc['Yhteensä %'] = df_vuodet_palkka_prosentteina.sum()\n",
    "#df_vuodet_palkka_prosentteina= df_vuodet_palkka_prosentteina.div(df_vuodet_palkka_prosentteina['Yhteensä'], axis=0) * 100\n",
    "df_vuodet_palkka_prosentteina= df_vuodet_palkka_prosentteina.applymap(lambda x: f\"{x:.1f}\")\n",
    "\n",
    "df_vuodet_palkka_prosentteina\n"
   ]
  },
  {
   "cell_type": "markdown",
   "metadata": {},
   "source": []
  },
  {
   "cell_type": "markdown",
   "metadata": {},
   "source": []
  },
  {
   "cell_type": "code",
   "execution_count": 217,
   "metadata": {},
   "outputs": [],
   "source": [
    "# tee taulukko toiseen suuntaan kuten aikaisemmassa\n"
   ]
  },
  {
   "cell_type": "code",
   "execution_count": null,
   "metadata": {},
   "outputs": [],
   "source": []
  },
  {
   "cell_type": "markdown",
   "metadata": {},
   "source": [
    "#### vuodet + työtehtävät"
   ]
  },
  {
   "cell_type": "code",
   "execution_count": 218,
   "metadata": {},
   "outputs": [
    {
     "data": {
      "text/html": [
       "<div>\n",
       "<style scoped>\n",
       "    .dataframe tbody tr th:only-of-type {\n",
       "        vertical-align: middle;\n",
       "    }\n",
       "\n",
       "    .dataframe tbody tr th {\n",
       "        vertical-align: top;\n",
       "    }\n",
       "\n",
       "    .dataframe thead th {\n",
       "        text-align: right;\n",
       "    }\n",
       "</style>\n",
       "<table border=\"1\" class=\"dataframe\">\n",
       "  <thead>\n",
       "    <tr style=\"text-align: right;\">\n",
       "      <th>Tyytyväisyys palkkaan</th>\n",
       "      <th>alle 5 vuotta</th>\n",
       "      <th>5-15 vuotta</th>\n",
       "      <th>15-25 vuotta</th>\n",
       "      <th>yli 25 vuotta</th>\n",
       "    </tr>\n",
       "  </thead>\n",
       "  <tbody>\n",
       "    <tr>\n",
       "      <th>tyytymätön</th>\n",
       "      <td>2</td>\n",
       "      <td>0</td>\n",
       "      <td>3</td>\n",
       "      <td>0</td>\n",
       "    </tr>\n",
       "    <tr>\n",
       "      <th>ei hyvä</th>\n",
       "      <td>4</td>\n",
       "      <td>6</td>\n",
       "      <td>5</td>\n",
       "      <td>0</td>\n",
       "    </tr>\n",
       "    <tr>\n",
       "      <th>en osaa sanoa / ok</th>\n",
       "      <td>8</td>\n",
       "      <td>11</td>\n",
       "      <td>9</td>\n",
       "      <td>1</td>\n",
       "    </tr>\n",
       "    <tr>\n",
       "      <th>ihan jees</th>\n",
       "      <td>6</td>\n",
       "      <td>5</td>\n",
       "      <td>12</td>\n",
       "      <td>2</td>\n",
       "    </tr>\n",
       "    <tr>\n",
       "      <th>tosi hyvä</th>\n",
       "      <td>1</td>\n",
       "      <td>3</td>\n",
       "      <td>3</td>\n",
       "      <td>1</td>\n",
       "    </tr>\n",
       "    <tr>\n",
       "      <th>Vastaajien määrä yht.</th>\n",
       "      <td>21</td>\n",
       "      <td>25</td>\n",
       "      <td>32</td>\n",
       "      <td>4</td>\n",
       "    </tr>\n",
       "  </tbody>\n",
       "</table>\n",
       "</div>"
      ],
      "text/plain": [
       "Tyytyväisyys palkkaan  alle 5 vuotta  5-15 vuotta  15-25 vuotta  yli 25 vuotta\n",
       "tyytymätön                         2            0             3              0\n",
       "ei hyvä                            4            6             5              0\n",
       "en osaa sanoa / ok                 8           11             9              1\n",
       "ihan jees                          6            5            12              2\n",
       "tosi hyvä                          1            3             3              1\n",
       "Vastaajien määrä yht.             21           25            32              4"
      ]
     },
     "execution_count": 218,
     "metadata": {},
     "output_type": "execute_result"
    }
   ],
   "source": [
    "df_vuodet_tyoteht = pd.crosstab(df['sat_tasks'], df['palvelusvuosiluokka'])\n",
    "df_vuodet_tyoteht.index = ['tyytymätön', 'ei hyvä', 'en osaa sanoa / ok', 'ihan jees', 'tosi hyvä' ]\n",
    "df_vuodet_tyoteht.columns = ['alle 5 vuotta', '5-15 vuotta', '15-25 vuotta', 'yli 25 vuotta']\n",
    "\n",
    "df_vuodet_tyoteht.columns.name='Tyytyväisyys palkkaan'\n",
    "df_vuodet_tyoteht.loc['Vastaajien määrä yht.'] = df_vuodet_tyoteht.sum()\n",
    "df_vuodet_tyoteht_yht_vastaukset = df_vuodet_tyoteht.assign(Yhteensä=df_vuodet_tyoteht.sum(axis=1))\n",
    "\n",
    "df_vuodet_tyoteht"
   ]
  },
  {
   "cell_type": "code",
   "execution_count": 219,
   "metadata": {},
   "outputs": [
    {
     "data": {
      "text/plain": [
       "Chi2ContingencyResult(statistic=np.float64(8.777634065407772), pvalue=np.float64(0.8888541974695782), dof=15, expected_freq=array([[ 1.2804878 ,  1.52439024,  1.95121951,  0.24390244],\n",
       "       [ 3.84146341,  4.57317073,  5.85365854,  0.73170732],\n",
       "       [ 7.42682927,  8.84146341, 11.31707317,  1.41463415],\n",
       "       [ 6.40243902,  7.62195122,  9.75609756,  1.2195122 ],\n",
       "       [ 2.04878049,  2.43902439,  3.12195122,  0.3902439 ],\n",
       "       [21.        , 25.        , 32.        ,  4.        ]]))"
      ]
     },
     "execution_count": 219,
     "metadata": {},
     "output_type": "execute_result"
    }
   ],
   "source": [
    "chi2_contingency(df_vuodet_tyoteht)\n",
    "\n",
    "#pvalue=np.float64(0.8888541974695782)"
   ]
  },
  {
   "cell_type": "code",
   "execution_count": 1,
   "metadata": {},
   "outputs": [
    {
     "data": {
      "image/png": "[encoded data removed]",
      "text/plain": [
       "<Figure size 1000x600 with 1 Axes>"
      ]
     },
     "metadata": {},
     "output_type": "display_data"
    }
   ],
   "source": [
    "\n",
    "import pandas as pd\n",
    "import matplotlib.pyplot as plt\n",
    "\n",
    "# Data from the table\n",
    "data = {\n",
    "    \"Tyytyväisyys\": [\"Tyytymätön\", \"Jokseenkin tyytymätön\", \"En osaa sanoa\", \"Jokseenkin tyytyväinen\", \"Tyytyväinen\"],\n",
    "    \"Perheetön (%)\": [12.9, 22.6, 41.9, 19.4, 3.2],\n",
    "    \"Perheellinen (%)\": [5.9, 17.6, 33.3, 33.3, 9.8]\n",
    "}\n",
    "\n",
    "# Create a DataFrame\n",
    "df = pd.DataFrame(data)\n",
    "\n",
    "# Plotting\n",
    "df.plot(x=\"Tyytyväisyys\", kind=\"bar\", figsize=(10, 6))\n",
    "\n",
    "# Adding labels and title\n",
    "plt.title('Tyytyväisyys johtoon prosenttijakauma')\n",
    "plt.xlabel('Tyytyväisyys')\n",
    "plt.ylabel('Prosenttijakauma (%)')\n",
    "plt.xticks(rotation=45, ha=\"right\")\n",
    "plt.legend(title='Perhetilanne')\n",
    "\n",
    "# Show the plot\n",
    "plt.tight_layout()\n",
    "plt.show()\n"
   ]
  },
  {
   "cell_type": "code",
   "execution_count": 40,
   "metadata": {},
   "outputs": [
    {
     "data": {
      "image/png": "[encoded data removed]",
      "text/plain": [
       "<Figure size 1000x600 with 1 Axes>"
      ]
     },
     "metadata": {},
     "output_type": "display_data"
    }
   ],
   "source": [
    "tyytyvaisyys_johto_perhe = {\n",
    "    \"Tyytyväisyys\": [\"Tyytymätön\", \"Jokseenkin tyytymätön\", \"En osaa sanoa\", \"Jokseenkin tyytyväinen\", \"Tyytyväinen\"],\n",
    "    \"Perheetön (%)\": [12.9, 22.6, 41.9, 19.4, 3.2],\n",
    "    \"Perheellinen (%)\": [5.9, 17.6, 33.3, 33.3, 9.8]\n",
    "}\n",
    "\n",
    "tyytyvaisyys_tyo_perhe = {\n",
    "    \"Tyytyväisyys\": [\"Tyytymätön\", \"Jokseenkin tyytymätön\", \"En osaa sanoa\", \"Jokseenkin tyytyväinen\", \"Tyytyväinen\"],\n",
    "    \"Perheetön (%)\": [9.7, 29 , 41.9 , 12.9 , 6.5],\n",
    "    \"Perheellinen (%)\": [3.9, 11.8, 31.4, 41.2, 11.8]\n",
    "}\n",
    "\n",
    "\n",
    "df_johto = pd.DataFrame(tyytyvaisyys_johto_perhe)\n",
    "df_tyo = pd.DataFrame(tyytyvaisyys_tyo_perhe)\n",
    "\n",
    "df_johto.set_index(\"Tyytyväisyys\", inplace=True)\n",
    "df_tyo.set_index(\"Tyytyväisyys\", inplace=True)\n",
    "\n",
    "\n",
    "ax = df_johto.plot.barh(stacked=True, figsize=(10, 6), color=['#1f77b4', '#ff7f0e'], position=1, width=0.4, label='Johto')\n",
    "df_tyo.plot.barh(stacked=True, ax=ax, color=['#87ceeb', '#ffa07a'], position=2, width=0.4, label='Tyo')\n",
    "\n",
    "# Adding labels and title\n",
    "plt.title('Tyytyväisyys johtoon vs. työhön prosenttijakauma, N = 82', pad=20)\n",
    "plt.xlabel('Prosenttijakauma (%)')\n",
    "plt.ylabel('Tyytyväisyys')\n",
    "plt.legend(title='Perhetilanne')\n",
    "\n",
    "# Customize the legend to show which bar corresponds to which dataset\n",
    "handles, labels = ax.get_legend_handles_labels()\n",
    "# Add labels for each dataset: 'Johto' vs 'Tyo', and 'Perheetön' vs 'Perheellinen'\n",
    "labels[0] = 'Johto - Perheetön'\n",
    "labels[1] = 'Johto - Perheellinen'\n",
    "labels[2] = 'Työteht. - Perheetön'\n",
    "labels[3] = 'Työteht. - Perheellinen'\n",
    "ax.legend(handles, labels, title='Data Source', loc='upper right')\n",
    "\n",
    "# Show the plot\n",
    "plt.tight_layout(pad=2)\n",
    "plt.show()"
   ]
  }
 ],
 "metadata": {
  "kernelspec": {
   "display_name": "Python 3",
   "language": "python",
   "name": "python3"
  },
  "language_info": {
   "codemirror_mode": {
    "name": "ipython",
    "version": 3
   },
   "file_extension": ".py",
   "mimetype": "text/x-python",
   "name": "python",
   "nbconvert_exporter": "python",
   "pygments_lexer": "ipython3",
   "version": "3.12.5"
  }
 },
 "nbformat": 4,
 "nbformat_minor": 2
}
